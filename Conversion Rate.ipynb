{
 "cells": [
  {
   "cell_type": "code",
   "execution_count": 5,
   "id": "f6e9c52a",
   "metadata": {},
   "outputs": [],
   "source": [
    "import pandas as pd\n",
    "import numpy as np\n",
    "import matplotlib.pyplot as plt\n",
    "import seaborn as sns\n",
    "from sklearn import metrics\n",
    "%matplotlib inline"
   ]
  },
  {
   "cell_type": "code",
   "execution_count": 6,
   "id": "4d71c2a7",
   "metadata": {},
   "outputs": [],
   "source": [
    "df = pd.read_csv(\"/Users/jacksonyoung/Desktop/valley/project/project 2/2205150353224845/conversion_project.csv\")"
   ]
  },
  {
   "cell_type": "markdown",
   "id": "f7b1e275",
   "metadata": {},
   "source": [
    "### Goal\n",
    "- Optimizing conversion rate is likely the most common work of a data scientist\n",
    "- The goal of this challenge is to build a model that predicts conversion rate, and based on the model, come up with ideas to improve revenue."
   ]
  },
  {
   "cell_type": "markdown",
   "id": "f1c4bf53",
   "metadata": {},
   "source": [
    "### Data Description\n",
    "- We have data about users who vist our site\n",
    "- We have different characteristics of these users, such as: country, age, are they new user or not, where the source come from, total page they visited\n",
    "#### Thus, we want to:\n",
    "- Predict conversion rate\n",
    "- Give recommendations for the product team and marketing tema to improve conversion rate"
   ]
  },
  {
   "cell_type": "code",
   "execution_count": 7,
   "id": "b098aaf6",
   "metadata": {},
   "outputs": [
    {
     "data": {
      "text/html": [
       "<div>\n",
       "<style scoped>\n",
       "    .dataframe tbody tr th:only-of-type {\n",
       "        vertical-align: middle;\n",
       "    }\n",
       "\n",
       "    .dataframe tbody tr th {\n",
       "        vertical-align: top;\n",
       "    }\n",
       "\n",
       "    .dataframe thead th {\n",
       "        text-align: right;\n",
       "    }\n",
       "</style>\n",
       "<table border=\"1\" class=\"dataframe\">\n",
       "  <thead>\n",
       "    <tr style=\"text-align: right;\">\n",
       "      <th></th>\n",
       "      <th>country</th>\n",
       "      <th>age</th>\n",
       "      <th>new_user</th>\n",
       "      <th>source</th>\n",
       "      <th>total_pages_visited</th>\n",
       "      <th>converted</th>\n",
       "    </tr>\n",
       "  </thead>\n",
       "  <tbody>\n",
       "    <tr>\n",
       "      <th>0</th>\n",
       "      <td>UK</td>\n",
       "      <td>25</td>\n",
       "      <td>1</td>\n",
       "      <td>Ads</td>\n",
       "      <td>1</td>\n",
       "      <td>0</td>\n",
       "    </tr>\n",
       "    <tr>\n",
       "      <th>1</th>\n",
       "      <td>US</td>\n",
       "      <td>23</td>\n",
       "      <td>1</td>\n",
       "      <td>Seo</td>\n",
       "      <td>5</td>\n",
       "      <td>0</td>\n",
       "    </tr>\n",
       "    <tr>\n",
       "      <th>2</th>\n",
       "      <td>US</td>\n",
       "      <td>28</td>\n",
       "      <td>1</td>\n",
       "      <td>Seo</td>\n",
       "      <td>4</td>\n",
       "      <td>0</td>\n",
       "    </tr>\n",
       "    <tr>\n",
       "      <th>3</th>\n",
       "      <td>China</td>\n",
       "      <td>39</td>\n",
       "      <td>1</td>\n",
       "      <td>Seo</td>\n",
       "      <td>5</td>\n",
       "      <td>0</td>\n",
       "    </tr>\n",
       "    <tr>\n",
       "      <th>4</th>\n",
       "      <td>US</td>\n",
       "      <td>30</td>\n",
       "      <td>1</td>\n",
       "      <td>Seo</td>\n",
       "      <td>6</td>\n",
       "      <td>0</td>\n",
       "    </tr>\n",
       "    <tr>\n",
       "      <th>...</th>\n",
       "      <td>...</td>\n",
       "      <td>...</td>\n",
       "      <td>...</td>\n",
       "      <td>...</td>\n",
       "      <td>...</td>\n",
       "      <td>...</td>\n",
       "    </tr>\n",
       "    <tr>\n",
       "      <th>316195</th>\n",
       "      <td>US</td>\n",
       "      <td>26</td>\n",
       "      <td>1</td>\n",
       "      <td>Ads</td>\n",
       "      <td>9</td>\n",
       "      <td>0</td>\n",
       "    </tr>\n",
       "    <tr>\n",
       "      <th>316196</th>\n",
       "      <td>US</td>\n",
       "      <td>27</td>\n",
       "      <td>1</td>\n",
       "      <td>Direct</td>\n",
       "      <td>6</td>\n",
       "      <td>0</td>\n",
       "    </tr>\n",
       "    <tr>\n",
       "      <th>316197</th>\n",
       "      <td>China</td>\n",
       "      <td>25</td>\n",
       "      <td>0</td>\n",
       "      <td>Ads</td>\n",
       "      <td>4</td>\n",
       "      <td>0</td>\n",
       "    </tr>\n",
       "    <tr>\n",
       "      <th>316198</th>\n",
       "      <td>US</td>\n",
       "      <td>22</td>\n",
       "      <td>0</td>\n",
       "      <td>Seo</td>\n",
       "      <td>4</td>\n",
       "      <td>0</td>\n",
       "    </tr>\n",
       "    <tr>\n",
       "      <th>316199</th>\n",
       "      <td>UK</td>\n",
       "      <td>24</td>\n",
       "      <td>0</td>\n",
       "      <td>Ads</td>\n",
       "      <td>4</td>\n",
       "      <td>0</td>\n",
       "    </tr>\n",
       "  </tbody>\n",
       "</table>\n",
       "<p>316200 rows × 6 columns</p>\n",
       "</div>"
      ],
      "text/plain": [
       "       country  age  new_user  source  total_pages_visited  converted\n",
       "0           UK   25         1     Ads                    1          0\n",
       "1           US   23         1     Seo                    5          0\n",
       "2           US   28         1     Seo                    4          0\n",
       "3        China   39         1     Seo                    5          0\n",
       "4           US   30         1     Seo                    6          0\n",
       "...        ...  ...       ...     ...                  ...        ...\n",
       "316195      US   26         1     Ads                    9          0\n",
       "316196      US   27         1  Direct                    6          0\n",
       "316197   China   25         0     Ads                    4          0\n",
       "316198      US   22         0     Seo                    4          0\n",
       "316199      UK   24         0     Ads                    4          0\n",
       "\n",
       "[316200 rows x 6 columns]"
      ]
     },
     "execution_count": 7,
     "metadata": {},
     "output_type": "execute_result"
    }
   ],
   "source": [
    "df"
   ]
  },
  {
   "cell_type": "code",
   "execution_count": 8,
   "id": "986c62fe",
   "metadata": {},
   "outputs": [
    {
     "name": "stdout",
     "output_type": "stream",
     "text": [
      "<class 'pandas.core.frame.DataFrame'>\n",
      "RangeIndex: 316200 entries, 0 to 316199\n",
      "Data columns (total 6 columns):\n",
      " #   Column               Non-Null Count   Dtype \n",
      "---  ------               --------------   ----- \n",
      " 0   country              316200 non-null  object\n",
      " 1   age                  316200 non-null  int64 \n",
      " 2   new_user             316200 non-null  int64 \n",
      " 3   source               316200 non-null  object\n",
      " 4   total_pages_visited  316200 non-null  int64 \n",
      " 5   converted            316200 non-null  int64 \n",
      "dtypes: int64(4), object(2)\n",
      "memory usage: 14.5+ MB\n"
     ]
    }
   ],
   "source": [
    "df.info()"
   ]
  },
  {
   "cell_type": "markdown",
   "id": "37c03559",
   "metadata": {},
   "source": [
    "- country: user from different country based on their ip address(catogorical data)\n",
    "- age: user's age, self reported at sign-in page\n",
    "- new_user: weather the user created the account during the session or had already an account and simply came back to the site\n",
    "- source: marketing cahnnel(categorical data), the way that people advertised by different source\n",
    "- tota_pages_visited: number of total pages visisted during the session, (engagement)\n",
    "- converted: 1 means they converted within the session, 0 means they left without buying anything\n",
    "##### Business goal: increase the conversion_rate: # conversion / # of total session"
   ]
  },
  {
   "cell_type": "code",
   "execution_count": 9,
   "id": "ba37bc64",
   "metadata": {},
   "outputs": [
    {
     "data": {
      "text/html": [
       "<div>\n",
       "<style scoped>\n",
       "    .dataframe tbody tr th:only-of-type {\n",
       "        vertical-align: middle;\n",
       "    }\n",
       "\n",
       "    .dataframe tbody tr th {\n",
       "        vertical-align: top;\n",
       "    }\n",
       "\n",
       "    .dataframe thead th {\n",
       "        text-align: right;\n",
       "    }\n",
       "</style>\n",
       "<table border=\"1\" class=\"dataframe\">\n",
       "  <thead>\n",
       "    <tr style=\"text-align: right;\">\n",
       "      <th></th>\n",
       "      <th>age</th>\n",
       "      <th>new_user</th>\n",
       "      <th>total_pages_visited</th>\n",
       "      <th>converted</th>\n",
       "    </tr>\n",
       "  </thead>\n",
       "  <tbody>\n",
       "    <tr>\n",
       "      <th>count</th>\n",
       "      <td>316200.000000</td>\n",
       "      <td>316200.000000</td>\n",
       "      <td>316200.000000</td>\n",
       "      <td>316200.000000</td>\n",
       "    </tr>\n",
       "    <tr>\n",
       "      <th>mean</th>\n",
       "      <td>30.569858</td>\n",
       "      <td>0.685465</td>\n",
       "      <td>4.872966</td>\n",
       "      <td>0.032258</td>\n",
       "    </tr>\n",
       "    <tr>\n",
       "      <th>std</th>\n",
       "      <td>8.271802</td>\n",
       "      <td>0.464331</td>\n",
       "      <td>3.341104</td>\n",
       "      <td>0.176685</td>\n",
       "    </tr>\n",
       "    <tr>\n",
       "      <th>min</th>\n",
       "      <td>17.000000</td>\n",
       "      <td>0.000000</td>\n",
       "      <td>1.000000</td>\n",
       "      <td>0.000000</td>\n",
       "    </tr>\n",
       "    <tr>\n",
       "      <th>25%</th>\n",
       "      <td>24.000000</td>\n",
       "      <td>0.000000</td>\n",
       "      <td>2.000000</td>\n",
       "      <td>0.000000</td>\n",
       "    </tr>\n",
       "    <tr>\n",
       "      <th>50%</th>\n",
       "      <td>30.000000</td>\n",
       "      <td>1.000000</td>\n",
       "      <td>4.000000</td>\n",
       "      <td>0.000000</td>\n",
       "    </tr>\n",
       "    <tr>\n",
       "      <th>75%</th>\n",
       "      <td>36.000000</td>\n",
       "      <td>1.000000</td>\n",
       "      <td>7.000000</td>\n",
       "      <td>0.000000</td>\n",
       "    </tr>\n",
       "    <tr>\n",
       "      <th>max</th>\n",
       "      <td>123.000000</td>\n",
       "      <td>1.000000</td>\n",
       "      <td>29.000000</td>\n",
       "      <td>1.000000</td>\n",
       "    </tr>\n",
       "  </tbody>\n",
       "</table>\n",
       "</div>"
      ],
      "text/plain": [
       "                 age       new_user  total_pages_visited      converted\n",
       "count  316200.000000  316200.000000        316200.000000  316200.000000\n",
       "mean       30.569858       0.685465             4.872966       0.032258\n",
       "std         8.271802       0.464331             3.341104       0.176685\n",
       "min        17.000000       0.000000             1.000000       0.000000\n",
       "25%        24.000000       0.000000             2.000000       0.000000\n",
       "50%        30.000000       1.000000             4.000000       0.000000\n",
       "75%        36.000000       1.000000             7.000000       0.000000\n",
       "max       123.000000       1.000000            29.000000       1.000000"
      ]
     },
     "execution_count": 9,
     "metadata": {},
     "output_type": "execute_result"
    }
   ],
   "source": [
    "df.describe()"
   ]
  },
  {
   "cell_type": "markdown",
   "id": "f55c1ee1",
   "metadata": {},
   "source": [
    "##### quick observation:\n",
    "- age: mean is around 30, however it might has some outliers, min=17, max=123\n",
    "- converted rate is arount 0.03, which is industrial standard"
   ]
  },
  {
   "cell_type": "markdown",
   "id": "50ea2f8c",
   "metadata": {},
   "source": [
    "### outlier detection"
   ]
  },
  {
   "cell_type": "code",
   "execution_count": 10,
   "id": "1e154695",
   "metadata": {},
   "outputs": [
    {
     "data": {
      "text/html": [
       "<div>\n",
       "<style scoped>\n",
       "    .dataframe tbody tr th:only-of-type {\n",
       "        vertical-align: middle;\n",
       "    }\n",
       "\n",
       "    .dataframe tbody tr th {\n",
       "        vertical-align: top;\n",
       "    }\n",
       "\n",
       "    .dataframe thead th {\n",
       "        text-align: right;\n",
       "    }\n",
       "</style>\n",
       "<table border=\"1\" class=\"dataframe\">\n",
       "  <thead>\n",
       "    <tr style=\"text-align: right;\">\n",
       "      <th></th>\n",
       "      <th>country</th>\n",
       "      <th>age</th>\n",
       "      <th>new_user</th>\n",
       "      <th>source</th>\n",
       "      <th>total_pages_visited</th>\n",
       "      <th>converted</th>\n",
       "    </tr>\n",
       "  </thead>\n",
       "  <tbody>\n",
       "    <tr>\n",
       "      <th>90928</th>\n",
       "      <td>Germany</td>\n",
       "      <td>123</td>\n",
       "      <td>0</td>\n",
       "      <td>Seo</td>\n",
       "      <td>15</td>\n",
       "      <td>1</td>\n",
       "    </tr>\n",
       "    <tr>\n",
       "      <th>295581</th>\n",
       "      <td>UK</td>\n",
       "      <td>111</td>\n",
       "      <td>0</td>\n",
       "      <td>Ads</td>\n",
       "      <td>10</td>\n",
       "      <td>1</td>\n",
       "    </tr>\n",
       "  </tbody>\n",
       "</table>\n",
       "</div>"
      ],
      "text/plain": [
       "        country  age  new_user source  total_pages_visited  converted\n",
       "90928   Germany  123         0    Seo                   15          1\n",
       "295581       UK  111         0    Ads                   10          1"
      ]
     },
     "execution_count": 10,
     "metadata": {},
     "output_type": "execute_result"
    }
   ],
   "source": [
    "df[df['age'] > 100]\n",
    "# only two users, it is ok to remove them"
   ]
  },
  {
   "cell_type": "code",
   "execution_count": 11,
   "id": "e8a7a02b",
   "metadata": {},
   "outputs": [],
   "source": [
    "df = df[df.age <= 100]"
   ]
  },
  {
   "cell_type": "code",
   "execution_count": 12,
   "id": "31a959ad",
   "metadata": {},
   "outputs": [
    {
     "data": {
      "text/html": [
       "<div>\n",
       "<style scoped>\n",
       "    .dataframe tbody tr th:only-of-type {\n",
       "        vertical-align: middle;\n",
       "    }\n",
       "\n",
       "    .dataframe tbody tr th {\n",
       "        vertical-align: top;\n",
       "    }\n",
       "\n",
       "    .dataframe thead th {\n",
       "        text-align: right;\n",
       "    }\n",
       "</style>\n",
       "<table border=\"1\" class=\"dataframe\">\n",
       "  <thead>\n",
       "    <tr style=\"text-align: right;\">\n",
       "      <th></th>\n",
       "      <th>country</th>\n",
       "      <th>age</th>\n",
       "      <th>new_user</th>\n",
       "      <th>source</th>\n",
       "      <th>total_pages_visited</th>\n",
       "      <th>converted</th>\n",
       "    </tr>\n",
       "  </thead>\n",
       "  <tbody>\n",
       "    <tr>\n",
       "      <th>0</th>\n",
       "      <td>UK</td>\n",
       "      <td>25</td>\n",
       "      <td>1</td>\n",
       "      <td>Ads</td>\n",
       "      <td>1</td>\n",
       "      <td>0</td>\n",
       "    </tr>\n",
       "    <tr>\n",
       "      <th>1</th>\n",
       "      <td>US</td>\n",
       "      <td>23</td>\n",
       "      <td>1</td>\n",
       "      <td>Seo</td>\n",
       "      <td>5</td>\n",
       "      <td>0</td>\n",
       "    </tr>\n",
       "    <tr>\n",
       "      <th>2</th>\n",
       "      <td>US</td>\n",
       "      <td>28</td>\n",
       "      <td>1</td>\n",
       "      <td>Seo</td>\n",
       "      <td>4</td>\n",
       "      <td>0</td>\n",
       "    </tr>\n",
       "    <tr>\n",
       "      <th>3</th>\n",
       "      <td>China</td>\n",
       "      <td>39</td>\n",
       "      <td>1</td>\n",
       "      <td>Seo</td>\n",
       "      <td>5</td>\n",
       "      <td>0</td>\n",
       "    </tr>\n",
       "    <tr>\n",
       "      <th>4</th>\n",
       "      <td>US</td>\n",
       "      <td>30</td>\n",
       "      <td>1</td>\n",
       "      <td>Seo</td>\n",
       "      <td>6</td>\n",
       "      <td>0</td>\n",
       "    </tr>\n",
       "    <tr>\n",
       "      <th>...</th>\n",
       "      <td>...</td>\n",
       "      <td>...</td>\n",
       "      <td>...</td>\n",
       "      <td>...</td>\n",
       "      <td>...</td>\n",
       "      <td>...</td>\n",
       "    </tr>\n",
       "    <tr>\n",
       "      <th>316195</th>\n",
       "      <td>US</td>\n",
       "      <td>26</td>\n",
       "      <td>1</td>\n",
       "      <td>Ads</td>\n",
       "      <td>9</td>\n",
       "      <td>0</td>\n",
       "    </tr>\n",
       "    <tr>\n",
       "      <th>316196</th>\n",
       "      <td>US</td>\n",
       "      <td>27</td>\n",
       "      <td>1</td>\n",
       "      <td>Direct</td>\n",
       "      <td>6</td>\n",
       "      <td>0</td>\n",
       "    </tr>\n",
       "    <tr>\n",
       "      <th>316197</th>\n",
       "      <td>China</td>\n",
       "      <td>25</td>\n",
       "      <td>0</td>\n",
       "      <td>Ads</td>\n",
       "      <td>4</td>\n",
       "      <td>0</td>\n",
       "    </tr>\n",
       "    <tr>\n",
       "      <th>316198</th>\n",
       "      <td>US</td>\n",
       "      <td>22</td>\n",
       "      <td>0</td>\n",
       "      <td>Seo</td>\n",
       "      <td>4</td>\n",
       "      <td>0</td>\n",
       "    </tr>\n",
       "    <tr>\n",
       "      <th>316199</th>\n",
       "      <td>UK</td>\n",
       "      <td>24</td>\n",
       "      <td>0</td>\n",
       "      <td>Ads</td>\n",
       "      <td>4</td>\n",
       "      <td>0</td>\n",
       "    </tr>\n",
       "  </tbody>\n",
       "</table>\n",
       "<p>316198 rows × 6 columns</p>\n",
       "</div>"
      ],
      "text/plain": [
       "       country  age  new_user  source  total_pages_visited  converted\n",
       "0           UK   25         1     Ads                    1          0\n",
       "1           US   23         1     Seo                    5          0\n",
       "2           US   28         1     Seo                    4          0\n",
       "3        China   39         1     Seo                    5          0\n",
       "4           US   30         1     Seo                    6          0\n",
       "...        ...  ...       ...     ...                  ...        ...\n",
       "316195      US   26         1     Ads                    9          0\n",
       "316196      US   27         1  Direct                    6          0\n",
       "316197   China   25         0     Ads                    4          0\n",
       "316198      US   22         0     Seo                    4          0\n",
       "316199      UK   24         0     Ads                    4          0\n",
       "\n",
       "[316198 rows x 6 columns]"
      ]
     },
     "execution_count": 12,
     "metadata": {},
     "output_type": "execute_result"
    }
   ],
   "source": [
    "df"
   ]
  },
  {
   "cell_type": "markdown",
   "id": "c5dd1597",
   "metadata": {},
   "source": [
    "### EDA(exploratory data anaysis)"
   ]
  },
  {
   "cell_type": "markdown",
   "id": "39bcca45",
   "metadata": {},
   "source": [
    "- mean conversion rate per country, we can see Chinese conversion rate is much lower than others\n",
    "- German has high conversion rate\n",
    "#### Compare the converted and un-converted group,\n",
    "\n",
    "- China have really big gap of count between converted and not converted\n",
    "- But not much user relatively in German"
   ]
  },
  {
   "cell_type": "code",
   "execution_count": 13,
   "id": "efb87912",
   "metadata": {},
   "outputs": [
    {
     "data": {
      "text/html": [
       "<div>\n",
       "<style scoped>\n",
       "    .dataframe tbody tr th:only-of-type {\n",
       "        vertical-align: middle;\n",
       "    }\n",
       "\n",
       "    .dataframe tbody tr th {\n",
       "        vertical-align: top;\n",
       "    }\n",
       "\n",
       "    .dataframe thead th {\n",
       "        text-align: right;\n",
       "    }\n",
       "</style>\n",
       "<table border=\"1\" class=\"dataframe\">\n",
       "  <thead>\n",
       "    <tr style=\"text-align: right;\">\n",
       "      <th></th>\n",
       "      <th>converted</th>\n",
       "    </tr>\n",
       "    <tr>\n",
       "      <th>country</th>\n",
       "      <th></th>\n",
       "    </tr>\n",
       "  </thead>\n",
       "  <tbody>\n",
       "    <tr>\n",
       "      <th>Germany</th>\n",
       "      <td>0.062428</td>\n",
       "    </tr>\n",
       "    <tr>\n",
       "      <th>UK</th>\n",
       "      <td>0.052612</td>\n",
       "    </tr>\n",
       "    <tr>\n",
       "      <th>US</th>\n",
       "      <td>0.037801</td>\n",
       "    </tr>\n",
       "    <tr>\n",
       "      <th>China</th>\n",
       "      <td>0.001332</td>\n",
       "    </tr>\n",
       "  </tbody>\n",
       "</table>\n",
       "</div>"
      ],
      "text/plain": [
       "         converted\n",
       "country           \n",
       "Germany   0.062428\n",
       "UK        0.052612\n",
       "US        0.037801\n",
       "China     0.001332"
      ]
     },
     "execution_count": 13,
     "metadata": {},
     "output_type": "execute_result"
    }
   ],
   "source": [
    "# group by country to get mean conversion rate of ceartain country, oder by converted DESC\n",
    "df[['country', 'converted']].groupby('country').mean().sort_values(by = 'converted', ascending = False)"
   ]
  },
  {
   "cell_type": "code",
   "execution_count": 14,
   "id": "583e1c36",
   "metadata": {},
   "outputs": [
    {
     "data": {
      "text/plain": [
       "Text(0.5, 1.0, 'Mean conversion rate - Country')"
      ]
     },
     "execution_count": 14,
     "metadata": {},
     "output_type": "execute_result"
    },
    {
     "data": {
      "image/png": "[encoded data removed]",
      "text/plain": [
       "<Figure size 1296x432 with 1 Axes>"
      ]
     },
     "metadata": {
      "needs_background": "light"
     },
     "output_type": "display_data"
    }
   ],
   "source": [
    "plt.figure(figsize = (18,6))\n",
    "sns.barplot(x = 'country', y = 'converted', data = df)\n",
    "plt.title('Mean conversion rate - Country')"
   ]
  },
  {
   "cell_type": "code",
   "execution_count": 15,
   "id": "63cf79a6",
   "metadata": {},
   "outputs": [
    {
     "data": {
      "image/png": "[encoded data removed]",
      "text/plain": [
       "<Figure size 1296x432 with 1 Axes>"
      ]
     },
     "metadata": {
      "needs_background": "light"
     },
     "output_type": "display_data"
    }
   ],
   "source": [
    "plt.figure(figsize = (18,6))\n",
    "sns.countplot(x = 'country', hue = 'converted', data = df)\n",
    "plt.title('Counted plot of differnet Country')\n",
    "plt.yscale('log')"
   ]
  },
  {
   "cell_type": "markdown",
   "id": "dc0462f8",
   "metadata": {},
   "source": [
    "#### Source and Conversion rate"
   ]
  },
  {
   "cell_type": "code",
   "execution_count": 16,
   "id": "2bb50a65",
   "metadata": {},
   "outputs": [
    {
     "data": {
      "text/html": [
       "<div>\n",
       "<style scoped>\n",
       "    .dataframe tbody tr th:only-of-type {\n",
       "        vertical-align: middle;\n",
       "    }\n",
       "\n",
       "    .dataframe tbody tr th {\n",
       "        vertical-align: top;\n",
       "    }\n",
       "\n",
       "    .dataframe thead th {\n",
       "        text-align: right;\n",
       "    }\n",
       "</style>\n",
       "<table border=\"1\" class=\"dataframe\">\n",
       "  <thead>\n",
       "    <tr style=\"text-align: right;\">\n",
       "      <th></th>\n",
       "      <th>converted</th>\n",
       "    </tr>\n",
       "    <tr>\n",
       "      <th>source</th>\n",
       "      <th></th>\n",
       "    </tr>\n",
       "  </thead>\n",
       "  <tbody>\n",
       "    <tr>\n",
       "      <th>Ads</th>\n",
       "      <td>0.034472</td>\n",
       "    </tr>\n",
       "    <tr>\n",
       "      <th>Seo</th>\n",
       "      <td>0.032888</td>\n",
       "    </tr>\n",
       "    <tr>\n",
       "      <th>Direct</th>\n",
       "      <td>0.028169</td>\n",
       "    </tr>\n",
       "  </tbody>\n",
       "</table>\n",
       "</div>"
      ],
      "text/plain": [
       "        converted\n",
       "source           \n",
       "Ads      0.034472\n",
       "Seo      0.032888\n",
       "Direct   0.028169"
      ]
     },
     "execution_count": 16,
     "metadata": {},
     "output_type": "execute_result"
    }
   ],
   "source": [
    "df[['source', 'converted']].groupby('source').mean().sort_values(by ='converted', ascending = False)\n",
    "# using numpy to manipulate data\n",
    "# df.groupby('source')['converted'].mean().sort_values(ascending=False)"
   ]
  },
  {
   "cell_type": "markdown",
   "id": "d32bda60",
   "metadata": {},
   "source": [
    "##### Observation:\n",
    "- Ads has the highest conversion rate\n",
    "\n",
    "let's show some visualizaiton"
   ]
  },
  {
   "cell_type": "code",
   "execution_count": 17,
   "id": "fe4b1202",
   "metadata": {},
   "outputs": [
    {
     "data": {
      "text/plain": [
       "Text(0.5, 1.0, 'Mean conversion rate - Source')"
      ]
     },
     "execution_count": 17,
     "metadata": {},
     "output_type": "execute_result"
    },
    {
     "data": {
      "image/png": "[encoded data removed]",
      "text/plain": [
       "<Figure size 1296x432 with 1 Axes>"
      ]
     },
     "metadata": {
      "needs_background": "light"
     },
     "output_type": "display_data"
    }
   ],
   "source": [
    "plt.figure(figsize=(18,6))\n",
    "sns.barplot(x = 'source', y ='converted', data = df)\n",
    "plt.title('Mean conversion rate - Source')"
   ]
  },
  {
   "cell_type": "code",
   "execution_count": 18,
   "id": "f70ebd20",
   "metadata": {},
   "outputs": [
    {
     "data": {
      "image/png": "[encoded data removed]",
      "text/plain": [
       "<Figure size 1296x432 with 1 Axes>"
      ]
     },
     "metadata": {
      "needs_background": "light"
     },
     "output_type": "display_data"
    }
   ],
   "source": [
    "plt.figure(figsize=(18,6))\n",
    "sns.countplot(x = 'source', hue = 'converted', data = df)\n",
    "plt.title(\"Count plot of different source\")\n",
    "plt.yscale('log')"
   ]
  },
  {
   "cell_type": "markdown",
   "id": "d5d9e211",
   "metadata": {},
   "source": [
    "#### Age and Conversion rate"
   ]
  },
  {
   "cell_type": "code",
   "execution_count": 19,
   "id": "860a54ea",
   "metadata": {},
   "outputs": [
    {
     "name": "stderr",
     "output_type": "stream",
     "text": [
      "/Users/jacksonyoung/opt/anaconda3/lib/python3.8/site-packages/seaborn/distributions.py:2557: FutureWarning: `distplot` is a deprecated function and will be removed in a future version. Please adapt your code to use either `displot` (a figure-level function with similar flexibility) or `histplot` (an axes-level function for histograms).\n",
      "  warnings.warn(msg, FutureWarning)\n",
      "/Users/jacksonyoung/opt/anaconda3/lib/python3.8/site-packages/seaborn/distributions.py:2557: FutureWarning: `distplot` is a deprecated function and will be removed in a future version. Please adapt your code to use either `displot` (a figure-level function with similar flexibility) or `histplot` (an axes-level function for histograms).\n",
      "  warnings.warn(msg, FutureWarning)\n"
     ]
    },
    {
     "data": {
      "image/png": "[encoded data removed]",
      "text/plain": [
       "<Figure size 1152x576 with 1 Axes>"
      ]
     },
     "metadata": {
      "needs_background": "light"
     },
     "output_type": "display_data"
    }
   ],
   "source": [
    "hist_kws = {'histtype':'bar', 'edgecolor':'black', 'alpha': 0.2}\n",
    "\n",
    "plt.figure(figsize=(16,8))\n",
    "sns.distplot(df[df['converted'] == 0]['age'], label='Converted 0', hist_kws = hist_kws)\n",
    "sns.distplot(df[df['converted'] == 1]['age'], label='Converted 1', hist_kws = hist_kws)\n",
    "plt.legend()\n",
    "plt.title('Distribution plot of Age')\n",
    "plt.xlabel('Age');\n",
    "# y axis is the probability density function for the kernel density estimation\n",
    "# distplot usually used for two distplot comparison"
   ]
  },
  {
   "cell_type": "markdown",
   "id": "e2e0e738",
   "metadata": {},
   "source": [
    "#### The correlation between converted rate and age\n",
    "- with the increasing of age, the converted rate keep decreasing"
   ]
  },
  {
   "cell_type": "code",
   "execution_count": 20,
   "id": "071b7486",
   "metadata": {},
   "outputs": [
    {
     "data": {
      "text/html": [
       "<div>\n",
       "<style scoped>\n",
       "    .dataframe tbody tr th:only-of-type {\n",
       "        vertical-align: middle;\n",
       "    }\n",
       "\n",
       "    .dataframe tbody tr th {\n",
       "        vertical-align: top;\n",
       "    }\n",
       "\n",
       "    .dataframe thead th {\n",
       "        text-align: right;\n",
       "    }\n",
       "</style>\n",
       "<table border=\"1\" class=\"dataframe\">\n",
       "  <thead>\n",
       "    <tr style=\"text-align: right;\">\n",
       "      <th></th>\n",
       "      <th>age</th>\n",
       "      <th>converted</th>\n",
       "    </tr>\n",
       "  </thead>\n",
       "  <tbody>\n",
       "    <tr>\n",
       "      <th>0</th>\n",
       "      <td>17</td>\n",
       "      <td>0.071607</td>\n",
       "    </tr>\n",
       "    <tr>\n",
       "      <th>1</th>\n",
       "      <td>18</td>\n",
       "      <td>0.066029</td>\n",
       "    </tr>\n",
       "    <tr>\n",
       "      <th>2</th>\n",
       "      <td>19</td>\n",
       "      <td>0.058616</td>\n",
       "    </tr>\n",
       "    <tr>\n",
       "      <th>3</th>\n",
       "      <td>20</td>\n",
       "      <td>0.057109</td>\n",
       "    </tr>\n",
       "    <tr>\n",
       "      <th>4</th>\n",
       "      <td>21</td>\n",
       "      <td>0.053985</td>\n",
       "    </tr>\n",
       "  </tbody>\n",
       "</table>\n",
       "</div>"
      ],
      "text/plain": [
       "   age  converted\n",
       "0   17   0.071607\n",
       "1   18   0.066029\n",
       "2   19   0.058616\n",
       "3   20   0.057109\n",
       "4   21   0.053985"
      ]
     },
     "execution_count": 20,
     "metadata": {},
     "output_type": "execute_result"
    }
   ],
   "source": [
    "mean_age = df.groupby('age')['converted'].mean().reset_index()\n",
    "mean_age.head()"
   ]
  },
  {
   "cell_type": "code",
   "execution_count": 21,
   "id": "4a349fee",
   "metadata": {},
   "outputs": [
    {
     "data": {
      "image/png": "[encoded data removed]",
      "text/plain": [
       "<Figure size 864x576 with 1 Axes>"
      ]
     },
     "metadata": {
      "needs_background": "light"
     },
     "output_type": "display_data"
    }
   ],
   "source": [
    "plt.figure(figsize=(12,8))\n",
    "plt.plot(mean_age['age'], mean_age['converted'], '.-')\n",
    "plt.title('The correlation between converted rate and age')\n",
    "plt.xlabel('age')\n",
    "plt.grid(True);"
   ]
  },
  {
   "cell_type": "markdown",
   "id": "404c11e7",
   "metadata": {},
   "source": [
    "- around age 60, there is some fluctuation"
   ]
  },
  {
   "cell_type": "markdown",
   "id": "9362e82d",
   "metadata": {},
   "source": [
    "#### Total page visited and conversion rate"
   ]
  },
  {
   "cell_type": "code",
   "execution_count": 22,
   "id": "50824125",
   "metadata": {},
   "outputs": [
    {
     "data": {
      "image/png": "[encoded data removed]",
      "text/plain": [
       "<Figure size 864x576 with 1 Axes>"
      ]
     },
     "metadata": {
      "needs_background": "light"
     },
     "output_type": "display_data"
    }
   ],
   "source": [
    "plt.figure(figsize=(12,8))\n",
    "mean_page = df.groupby('total_pages_visited')['converted'].mean().reset_index()\n",
    "plt.plot(mean_page['total_pages_visited'], mean_page['converted'])\n",
    "plt.title('converted rate vs page visited')\n",
    "plt.xlabel('page visited');"
   ]
  },
  {
   "cell_type": "code",
   "execution_count": 23,
   "id": "2faaaf94",
   "metadata": {},
   "outputs": [
    {
     "name": "stderr",
     "output_type": "stream",
     "text": [
      "/Users/jacksonyoung/opt/anaconda3/lib/python3.8/site-packages/seaborn/distributions.py:2557: FutureWarning: `distplot` is a deprecated function and will be removed in a future version. Please adapt your code to use either `displot` (a figure-level function with similar flexibility) or `histplot` (an axes-level function for histograms).\n",
      "  warnings.warn(msg, FutureWarning)\n",
      "/Users/jacksonyoung/opt/anaconda3/lib/python3.8/site-packages/seaborn/distributions.py:2557: FutureWarning: `distplot` is a deprecated function and will be removed in a future version. Please adapt your code to use either `displot` (a figure-level function with similar flexibility) or `histplot` (an axes-level function for histograms).\n",
      "  warnings.warn(msg, FutureWarning)\n"
     ]
    },
    {
     "data": {
      "image/png": "[encoded data removed]",
      "text/plain": [
       "<Figure size 1296x576 with 1 Axes>"
      ]
     },
     "metadata": {
      "needs_background": "light"
     },
     "output_type": "display_data"
    }
   ],
   "source": [
    "hist_kws = {'histtype':'bar', 'edgecolor':'black', 'alpha': 0.2}\n",
    "plt.figure(figsize=(18,8))\n",
    "sns.distplot(df[df['converted']==1]['total_pages_visited'], label = 'converted 1', hist_kws = hist_kws)\n",
    "sns.distplot(df[df['converted']==0]['total_pages_visited'], label = 'converted 0', hist_kws = hist_kws)\n",
    "plt.legend();"
   ]
  },
  {
   "cell_type": "markdown",
   "id": "39679731",
   "metadata": {},
   "source": [
    "- for people who converted, they view the page mostly around 15"
   ]
  },
  {
   "cell_type": "markdown",
   "id": "43fbc544",
   "metadata": {},
   "source": [
    "### Build Machine Learning Model for Prediction\n",
    "##### here we need Classification model for prediction\n",
    "- logsitic regression\n",
    "- decision tree\n",
    "- RuleFit\n",
    "- Random Forest in combination with partial dependence plots"
   ]
  },
  {
   "cell_type": "markdown",
   "id": "3570469c",
   "metadata": {},
   "source": [
    "#### decide which categorical variavbles we want to use in model"
   ]
  },
  {
   "cell_type": "code",
   "execution_count": 24,
   "id": "8ce0a3e2",
   "metadata": {},
   "outputs": [
    {
     "name": "stdout",
     "output_type": "stream",
     "text": [
      "Feature 'country' has 4 unique categories\n",
      "Feature 'source' has 3 unique categories\n"
     ]
    }
   ],
   "source": [
    "for col_name in df.columns:\n",
    "    if df[col_name].dtype == 'object':\n",
    "        unique_cat = len(df[col_name].unique())\n",
    "        print(\"Feature '{col_name}' has {unique_cat} unique categories\".format(col_name=col_name, unique_cat=unique_cat))"
   ]
  },
  {
   "cell_type": "markdown",
   "id": "1af19920",
   "metadata": {},
   "source": [
    "As the reults above, I think we are able to process these features to dummy variables\n",
    "- create a list of features to dummy"
   ]
  },
  {
   "cell_type": "code",
   "execution_count": 25,
   "id": "7dc8f0f6",
   "metadata": {},
   "outputs": [],
   "source": [
    "todummy_list = [ 'country', 'source' ] # feature column that i need\n",
    "# funciton to dummy all the categorical variables used for modeling\n",
    "def dummy_df(df, todummy_list):\n",
    "    for x in todummy_list:\n",
    "        dummies = pd.get_dummies(df[x], prefix=x, dummy_na=False)\n",
    "        df = df.drop(x, 1)\n",
    "        df = pd.concat([df, dummies], axis=1)\n",
    "    return df"
   ]
  },
  {
   "cell_type": "code",
   "execution_count": 26,
   "id": "554d48a2",
   "metadata": {},
   "outputs": [
    {
     "name": "stderr",
     "output_type": "stream",
     "text": [
      "<ipython-input-25-985062468ea3>:6: FutureWarning: In a future version of pandas all arguments of DataFrame.drop except for the argument 'labels' will be keyword-only\n",
      "  df = df.drop(x, 1)\n"
     ]
    }
   ],
   "source": [
    "dummy_df = dummy_df(df, todummy_list)"
   ]
  },
  {
   "cell_type": "code",
   "execution_count": 27,
   "id": "134179de",
   "metadata": {},
   "outputs": [
    {
     "name": "stdout",
     "output_type": "stream",
     "text": [
      "<class 'pandas.core.frame.DataFrame'>\n",
      "Int64Index: 316198 entries, 0 to 316199\n",
      "Data columns (total 11 columns):\n",
      " #   Column               Non-Null Count   Dtype\n",
      "---  ------               --------------   -----\n",
      " 0   age                  316198 non-null  int64\n",
      " 1   new_user             316198 non-null  int64\n",
      " 2   total_pages_visited  316198 non-null  int64\n",
      " 3   converted            316198 non-null  int64\n",
      " 4   country_China        316198 non-null  uint8\n",
      " 5   country_Germany      316198 non-null  uint8\n",
      " 6   country_UK           316198 non-null  uint8\n",
      " 7   country_US           316198 non-null  uint8\n",
      " 8   source_Ads           316198 non-null  uint8\n",
      " 9   source_Direct        316198 non-null  uint8\n",
      " 10  source_Seo           316198 non-null  uint8\n",
      "dtypes: int64(4), uint8(7)\n",
      "memory usage: 22.2 MB\n"
     ]
    }
   ],
   "source": [
    "dummy_df.info()"
   ]
  },
  {
   "cell_type": "markdown",
   "id": "660dc61d",
   "metadata": {},
   "source": [
    "### Assign X and y for taining and testing set"
   ]
  },
  {
   "cell_type": "code",
   "execution_count": 28,
   "id": "a2aeedbc",
   "metadata": {},
   "outputs": [],
   "source": [
    "y = dummy_df.converted\n",
    "X = dummy_df.drop(['converted'], axis = 1)"
   ]
  },
  {
   "cell_type": "code",
   "execution_count": 29,
   "id": "f6313d32",
   "metadata": {},
   "outputs": [],
   "source": [
    "from sklearn.preprocessing import MinMaxScaler\n",
    "from sklearn.preprocessing import StandardScaler\n",
    "from sklearn.metrics import classification_report"
   ]
  },
  {
   "cell_type": "code",
   "execution_count": 30,
   "id": "48d93db0",
   "metadata": {},
   "outputs": [],
   "source": [
    "from sklearn.model_selection import train_test_split\n",
    "from sklearn.linear_model import LogisticRegression\n",
    "from sklearn.svm import SVC\n",
    "from sklearn.ensemble import RandomForestClassifier\n",
    "from sklearn.tree import DecisionTreeClassifier\n",
    "from sklearn.pipeline import make_pipeline"
   ]
  },
  {
   "cell_type": "code",
   "execution_count": 31,
   "id": "70474a01",
   "metadata": {},
   "outputs": [
    {
     "data": {
      "text/plain": [
       "0.9869089375730742"
      ]
     },
     "execution_count": 31,
     "metadata": {},
     "output_type": "execute_result"
    }
   ],
   "source": [
    "X_train, X_test, y_train, y_test = train_test_split(X, y, test_size = 0.33, random_state = 42)\n",
    "pipe = make_pipeline(StandardScaler(), LogisticRegression())\n",
    "model = pipe.fit(X_train, y_train)\n",
    "y_pred = model.predict(X_test)\n",
    "model.score(X_test, y_test) \n"
   ]
  },
  {
   "cell_type": "code",
   "execution_count": 32,
   "id": "314d4d40",
   "metadata": {},
   "outputs": [
    {
     "name": "stdout",
     "output_type": "stream",
     "text": [
      "Accuracy: 0.9869089375730742\n"
     ]
    }
   ],
   "source": [
    "print(\"Accuracy:\",metrics.accuracy_score(y_test, y_pred))"
   ]
  },
  {
   "cell_type": "code",
   "execution_count": 33,
   "id": "8a71d9f1",
   "metadata": {},
   "outputs": [
    {
     "name": "stdout",
     "output_type": "stream",
     "text": [
      "            Predicted No  Predicted Yes   Total\n",
      "Actual No         100652            377  101029\n",
      "Actual Yes           989           2328    3317\n",
      "Total             101641           2705  104346\n"
     ]
    }
   ],
   "source": [
    "predicted_prob = model.predict_proba(X_test)[:,1] ##\n",
    "\n",
    "y_pred = model.predict(X_test)\n",
    "\n",
    "from sklearn.metrics import confusion_matrix\n",
    "\n",
    "cm = pd.DataFrame(confusion_matrix(y_test, y_pred))\n",
    "cm['Total'] = np.sum(cm, axis=1)\n",
    "cm = cm.append(np.sum(cm, axis=0), ignore_index=True)\n",
    "cm.columns = ['Predicted No', 'Predicted Yes', 'Total']\n",
    "cm = cm.set_index([['Actual No', 'Actual Yes', 'Total']])\n",
    "\n",
    "print(cm)"
   ]
  },
  {
   "cell_type": "code",
   "execution_count": 34,
   "id": "0318112c",
   "metadata": {},
   "outputs": [
    {
     "name": "stdout",
     "output_type": "stream",
     "text": [
      "              precision    recall  f1-score   support\n",
      "\n",
      "           0       0.99      1.00      0.99    101029\n",
      "           1       0.86      0.70      0.77      3317\n",
      "\n",
      "    accuracy                           0.99    104346\n",
      "   macro avg       0.93      0.85      0.88    104346\n",
      "weighted avg       0.99      0.99      0.99    104346\n",
      "\n"
     ]
    }
   ],
   "source": [
    "print(classification_report(y_test, y_pred))"
   ]
  },
  {
   "cell_type": "markdown",
   "id": "2a37b19e",
   "metadata": {},
   "source": [
    "### Obeservation\n",
    "- from the report: 0: converted 1: non-converted\n",
    "- we have uneven classes distribution (large amount of 0 but smaller amount of 1)\n",
    "- precision(cost of False Positive ), classified as 1 but it is not 1 \n",
    "- recall(cost of False Negative ), calssified as 0 but it is 1\n",
    "\n",
    "Precision : \n",
    "- TP/(TP+FP) 关于identified as Positive的\n",
    "- cost代价 of FP is high (认为是对的，实际上错了-> identified Positive的，实际上是 Negative的)\n",
    "- ex: In the spam detection, 1: spam； 0: not spam； \n",
    "- False Positive is identified as spam but it is actually non-spam;  This might lose important imformation if percision is not high\n",
    "\n",
    "Recall:\n",
    "- TP/(TP+FN) 关于actual 是 Positive的\n",
    "- cost of FN is high (认为是错的，实际上错了 -> identified as Negative, actually it is Positive)\n",
    "- ex_1: fraud detection, 1: fraud; 0: non-fraud\n",
    "- False Negative is identified as non-fraud but actually is fraud; The consequence can be very bad for the bank if the recall is low \n",
    "- ex_2: sick detection, 1: cancer; 0: not cancer\n",
    "- False Negative is identified as not cancer but actually is cancer; FN的代价(cost) 很高，如果recall is low, sick 被错误预测，那么会后果严重\n",
    "\n",
    "----- Note: 以上两种都是判断错误的\n",
    "\n",
    "F-1 score:\n",
    "- 2* (Precision*Recall / Precision+Recall )\n",
    "- Use F-1 when we want to seek a balance between Precision and Recall AND there is an uneven classs distribution (large number of Actual Negatives)\n",
    "\n",
    "Accuacy:\n",
    "- TP+TN/TP+TN+FP+FN 判断对的/所有判断\n",
    "- care more about TN; in business case, we don't focus much on TN, **but more on FN, FP (判断出错的部分)**, which have more business cost (angible & intangible)"
   ]
  },
  {
   "cell_type": "code",
   "execution_count": 36,
   "id": "24117f8f",
   "metadata": {},
   "outputs": [
    {
     "name": "stdout",
     "output_type": "stream",
     "text": [
      "               Feature  Coefficient\n",
      "0                  age    -0.074209\n",
      "1             new_user    -1.730442\n",
      "2  total_pages_visited     0.761033\n",
      "3        country_China    -3.599122\n",
      "4      country_Germany     0.169692\n",
      "5           country_UK    -0.052947\n",
      "6           country_US    -0.461199\n",
      "7           source_Ads    -1.261217\n",
      "8        source_Direct    -1.408710\n",
      "9           source_Seo    -1.273649\n"
     ]
    },
    {
     "name": "stderr",
     "output_type": "stream",
     "text": [
      "/Users/jacksonyoung/opt/anaconda3/lib/python3.8/site-packages/sklearn/linear_model/_logistic.py:444: ConvergenceWarning: lbfgs failed to converge (status=1):\n",
      "STOP: TOTAL NO. of ITERATIONS REACHED LIMIT.\n",
      "\n",
      "Increase the number of iterations (max_iter) or scale the data as shown in:\n",
      "    https://scikit-learn.org/stable/modules/preprocessing.html\n",
      "Please also refer to the documentation for alternative solver options:\n",
      "    https://scikit-learn.org/stable/modules/linear_model.html#logistic-regression\n",
      "  n_iter_i = _check_optimize_result(\n"
     ]
    }
   ],
   "source": [
    "model = LogisticRegression()\n",
    "model.fit(X_train, y_train)\n",
    "\n",
    "intercept = model.intercept_\n",
    "coeff = model.coef_\n",
    "coef_list = list(coeff[0,:])\n",
    "coef_df = pd.DataFrame({'Feature': list(X_train.columns),'Coefficient': coef_list})\n",
    "print(coef_df) "
   ]
  },
  {
   "cell_type": "code",
   "execution_count": 37,
   "id": "726d2bbe",
   "metadata": {},
   "outputs": [
    {
     "data": {
      "text/html": [
       "<div>\n",
       "<style scoped>\n",
       "    .dataframe tbody tr th:only-of-type {\n",
       "        vertical-align: middle;\n",
       "    }\n",
       "\n",
       "    .dataframe tbody tr th {\n",
       "        vertical-align: top;\n",
       "    }\n",
       "\n",
       "    .dataframe thead th {\n",
       "        text-align: right;\n",
       "    }\n",
       "</style>\n",
       "<table border=\"1\" class=\"dataframe\">\n",
       "  <thead>\n",
       "    <tr style=\"text-align: right;\">\n",
       "      <th></th>\n",
       "      <th>Feature</th>\n",
       "      <th>Coefficient</th>\n",
       "      <th>importances</th>\n",
       "    </tr>\n",
       "  </thead>\n",
       "  <tbody>\n",
       "    <tr>\n",
       "      <th>3</th>\n",
       "      <td>country_China</td>\n",
       "      <td>-3.599122</td>\n",
       "      <td>3.599122</td>\n",
       "    </tr>\n",
       "    <tr>\n",
       "      <th>1</th>\n",
       "      <td>new_user</td>\n",
       "      <td>-1.730442</td>\n",
       "      <td>1.730442</td>\n",
       "    </tr>\n",
       "    <tr>\n",
       "      <th>8</th>\n",
       "      <td>source_Direct</td>\n",
       "      <td>-1.408710</td>\n",
       "      <td>1.408710</td>\n",
       "    </tr>\n",
       "    <tr>\n",
       "      <th>9</th>\n",
       "      <td>source_Seo</td>\n",
       "      <td>-1.273649</td>\n",
       "      <td>1.273649</td>\n",
       "    </tr>\n",
       "    <tr>\n",
       "      <th>7</th>\n",
       "      <td>source_Ads</td>\n",
       "      <td>-1.261217</td>\n",
       "      <td>1.261217</td>\n",
       "    </tr>\n",
       "    <tr>\n",
       "      <th>2</th>\n",
       "      <td>total_pages_visited</td>\n",
       "      <td>0.761033</td>\n",
       "      <td>0.761033</td>\n",
       "    </tr>\n",
       "    <tr>\n",
       "      <th>6</th>\n",
       "      <td>country_US</td>\n",
       "      <td>-0.461199</td>\n",
       "      <td>0.461199</td>\n",
       "    </tr>\n",
       "    <tr>\n",
       "      <th>4</th>\n",
       "      <td>country_Germany</td>\n",
       "      <td>0.169692</td>\n",
       "      <td>0.169692</td>\n",
       "    </tr>\n",
       "    <tr>\n",
       "      <th>0</th>\n",
       "      <td>age</td>\n",
       "      <td>-0.074209</td>\n",
       "      <td>0.074209</td>\n",
       "    </tr>\n",
       "    <tr>\n",
       "      <th>5</th>\n",
       "      <td>country_UK</td>\n",
       "      <td>-0.052947</td>\n",
       "      <td>0.052947</td>\n",
       "    </tr>\n",
       "  </tbody>\n",
       "</table>\n",
       "</div>"
      ],
      "text/plain": [
       "               Feature  Coefficient  importances\n",
       "3        country_China    -3.599122     3.599122\n",
       "1             new_user    -1.730442     1.730442\n",
       "8        source_Direct    -1.408710     1.408710\n",
       "9           source_Seo    -1.273649     1.273649\n",
       "7           source_Ads    -1.261217     1.261217\n",
       "2  total_pages_visited     0.761033     0.761033\n",
       "6           country_US    -0.461199     0.461199\n",
       "4      country_Germany     0.169692     0.169692\n",
       "0                  age    -0.074209     0.074209\n",
       "5           country_UK    -0.052947     0.052947"
      ]
     },
     "execution_count": 37,
     "metadata": {},
     "output_type": "execute_result"
    }
   ],
   "source": [
    "feat_importances = coef_df #what we created before for coeff\n",
    "feat_importances['importances'] = np.abs(feat_importances['Coefficient']) #coeff is feature importance\n",
    "feat_importances.sort_values(by='importances', ascending=False, inplace=True)\n",
    "feat_importances"
   ]
  },
  {
   "cell_type": "code",
   "execution_count": 38,
   "id": "2b77cea8",
   "metadata": {},
   "outputs": [],
   "source": [
    "rfc = RandomForestClassifier()\n",
    "rfc_model = rfc.fit(X_train, y_train)\n",
    "rfc_y_pred = rfc_model.predict(X_test)"
   ]
  },
  {
   "cell_type": "code",
   "execution_count": 39,
   "id": "bcda1699",
   "metadata": {},
   "outputs": [
    {
     "name": "stdout",
     "output_type": "stream",
     "text": [
      "0.9849251528568417\n"
     ]
    }
   ],
   "source": [
    "print(rfc_model.score(X_test, y_test))"
   ]
  },
  {
   "cell_type": "code",
   "execution_count": 40,
   "id": "9e9992b9",
   "metadata": {},
   "outputs": [
    {
     "name": "stdout",
     "output_type": "stream",
     "text": [
      "Accuracy: 0.9849251528568417\n"
     ]
    }
   ],
   "source": [
    "print(\"Accuracy:\",metrics.accuracy_score(y_test, rfc_y_pred))"
   ]
  },
  {
   "cell_type": "code",
   "execution_count": 41,
   "id": "de088bb5",
   "metadata": {},
   "outputs": [
    {
     "name": "stdout",
     "output_type": "stream",
     "text": [
      "              precision    recall  f1-score   support\n",
      "\n",
      "           0       0.99      0.99      0.99    101029\n",
      "           1       0.81      0.69      0.74      3317\n",
      "\n",
      "    accuracy                           0.98    104346\n",
      "   macro avg       0.90      0.84      0.87    104346\n",
      "weighted avg       0.98      0.98      0.98    104346\n",
      "\n"
     ]
    }
   ],
   "source": [
    "print(classification_report(y_test, rfc_y_pred))"
   ]
  },
  {
   "cell_type": "code",
   "execution_count": 42,
   "id": "df9a1088",
   "metadata": {},
   "outputs": [
    {
     "data": {
      "text/plain": [
       "<AxesSubplot:>"
      ]
     },
     "execution_count": 42,
     "metadata": {},
     "output_type": "execute_result"
    },
    {
     "data": {
      "image/png": "[encoded data removed]",
      "text/plain": [
       "<Figure size 1080x576 with 1 Axes>"
      ]
     },
     "metadata": {
      "needs_background": "light"
     },
     "output_type": "display_data"
    }
   ],
   "source": [
    "plt.figure(figsize=(15,8))\n",
    "sns.barplot(x = rfc_model.feature_importances_, y = X.columns)"
   ]
  },
  {
   "cell_type": "markdown",
   "id": "e23373c6",
   "metadata": {},
   "source": [
    "from the chart above, the most important feature is total_page_visited. how ever, it is hard for company to let\n",
    "people to visit nore pages. Because, people probably visis more pages to buy things anyway, thus it is probably\n",
    "caused by the action of purchase, rather than casuing a purchase.\n",
    "- Buying action ---> more page visited\n",
    "- more page visited might not be a reason to buy more"
   ]
  },
  {
   "cell_type": "code",
   "execution_count": 43,
   "id": "80f4a076",
   "metadata": {},
   "outputs": [
    {
     "data": {
      "text/html": [
       "<style>#sk-container-id-1 {color: black;background-color: white;}#sk-container-id-1 pre{padding: 0;}#sk-container-id-1 div.sk-toggleable {background-color: white;}#sk-container-id-1 label.sk-toggleable__label {cursor: pointer;display: block;width: 100%;margin-bottom: 0;padding: 0.3em;box-sizing: border-box;text-align: center;}#sk-container-id-1 label.sk-toggleable__label-arrow:before {content: \"▸\";float: left;margin-right: 0.25em;color: #696969;}#sk-container-id-1 label.sk-toggleable__label-arrow:hover:before {color: black;}#sk-container-id-1 div.sk-estimator:hover label.sk-toggleable__label-arrow:before {color: black;}#sk-container-id-1 div.sk-toggleable__content {max-height: 0;max-width: 0;overflow: hidden;text-align: left;background-color: #f0f8ff;}#sk-container-id-1 div.sk-toggleable__content pre {margin: 0.2em;color: black;border-radius: 0.25em;background-color: #f0f8ff;}#sk-container-id-1 input.sk-toggleable__control:checked~div.sk-toggleable__content {max-height: 200px;max-width: 100%;overflow: auto;}#sk-container-id-1 input.sk-toggleable__control:checked~label.sk-toggleable__label-arrow:before {content: \"▾\";}#sk-container-id-1 div.sk-estimator input.sk-toggleable__control:checked~label.sk-toggleable__label {background-color: #d4ebff;}#sk-container-id-1 div.sk-label input.sk-toggleable__control:checked~label.sk-toggleable__label {background-color: #d4ebff;}#sk-container-id-1 input.sk-hidden--visually {border: 0;clip: rect(1px 1px 1px 1px);clip: rect(1px, 1px, 1px, 1px);height: 1px;margin: -1px;overflow: hidden;padding: 0;position: absolute;width: 1px;}#sk-container-id-1 div.sk-estimator {font-family: monospace;background-color: #f0f8ff;border: 1px dotted black;border-radius: 0.25em;box-sizing: border-box;margin-bottom: 0.5em;}#sk-container-id-1 div.sk-estimator:hover {background-color: #d4ebff;}#sk-container-id-1 div.sk-parallel-item::after {content: \"\";width: 100%;border-bottom: 1px solid gray;flex-grow: 1;}#sk-container-id-1 div.sk-label:hover label.sk-toggleable__label {background-color: #d4ebff;}#sk-container-id-1 div.sk-serial::before {content: \"\";position: absolute;border-left: 1px solid gray;box-sizing: border-box;top: 0;bottom: 0;left: 50%;z-index: 0;}#sk-container-id-1 div.sk-serial {display: flex;flex-direction: column;align-items: center;background-color: white;padding-right: 0.2em;padding-left: 0.2em;position: relative;}#sk-container-id-1 div.sk-item {position: relative;z-index: 1;}#sk-container-id-1 div.sk-parallel {display: flex;align-items: stretch;justify-content: center;background-color: white;position: relative;}#sk-container-id-1 div.sk-item::before, #sk-container-id-1 div.sk-parallel-item::before {content: \"\";position: absolute;border-left: 1px solid gray;box-sizing: border-box;top: 0;bottom: 0;left: 50%;z-index: -1;}#sk-container-id-1 div.sk-parallel-item {display: flex;flex-direction: column;z-index: 1;position: relative;background-color: white;}#sk-container-id-1 div.sk-parallel-item:first-child::after {align-self: flex-end;width: 50%;}#sk-container-id-1 div.sk-parallel-item:last-child::after {align-self: flex-start;width: 50%;}#sk-container-id-1 div.sk-parallel-item:only-child::after {width: 0;}#sk-container-id-1 div.sk-dashed-wrapped {border: 1px dashed gray;margin: 0 0.4em 0.5em 0.4em;box-sizing: border-box;padding-bottom: 0.4em;background-color: white;}#sk-container-id-1 div.sk-label label {font-family: monospace;font-weight: bold;display: inline-block;line-height: 1.2em;}#sk-container-id-1 div.sk-label-container {text-align: center;}#sk-container-id-1 div.sk-container {/* jupyter's `normalize.less` sets `[hidden] { display: none; }` but bootstrap.min.css set `[hidden] { display: none !important; }` so we also need the `!important` here to be able to override the default hidden behavior on the sphinx rendered scikit-learn.org. See: https://github.com/scikit-learn/scikit-learn/issues/21755 */display: inline-block !important;position: relative;}#sk-container-id-1 div.sk-text-repr-fallback {display: none;}</style><div id=\"sk-container-id-1\" class=\"sk-top-container\"><div class=\"sk-text-repr-fallback\"><pre>RandomForestClassifier(random_state=42)</pre><b>In a Jupyter environment, please rerun this cell to show the HTML representation or trust the notebook. <br />On GitHub, the HTML representation is unable to render, please try loading this page with nbviewer.org.</b></div><div class=\"sk-container\" hidden><div class=\"sk-item\"><div class=\"sk-estimator sk-toggleable\"><input class=\"sk-toggleable__control sk-hidden--visually\" id=\"sk-estimator-id-1\" type=\"checkbox\" checked><label for=\"sk-estimator-id-1\" class=\"sk-toggleable__label sk-toggleable__label-arrow\">RandomForestClassifier</label><div class=\"sk-toggleable__content\"><pre>RandomForestClassifier(random_state=42)</pre></div></div></div></div></div>"
      ],
      "text/plain": [
       "RandomForestClassifier(random_state=42)"
      ]
     },
     "execution_count": 43,
     "metadata": {},
     "output_type": "execute_result"
    }
   ],
   "source": [
    "remove_page = X.drop(['total_pages_visited'],axis=1)\n",
    "X_train, X_test, y_train, y_test = train_test_split(remove_page,y, test_size=0.33, random_state=42)\n",
    "forest = RandomForestClassifier(random_state=42)\n",
    "forest.fit(X_train, y_train)"
   ]
  },
  {
   "cell_type": "code",
   "execution_count": 45,
   "id": "29f541e6",
   "metadata": {},
   "outputs": [
    {
     "name": "stdout",
     "output_type": "stream",
     "text": [
      "Accuracy: 0.9682115270350564\n"
     ]
    }
   ],
   "source": [
    "y_pred = forest.predict(X_test)\n",
    "forest.score(X_test, y_test)"
   ]
  },
  {
   "cell_type": "code",
   "execution_count": 46,
   "id": "d49e145c",
   "metadata": {},
   "outputs": [
    {
     "name": "stdout",
     "output_type": "stream",
     "text": [
      "Accuracy: 0.9682115270350564\n"
     ]
    }
   ],
   "source": [
    "print(\"Accuracy:\",metrics.accuracy_score(y_test, y_pred))"
   ]
  },
  {
   "cell_type": "code",
   "execution_count": 56,
   "id": "c4bafdc0",
   "metadata": {},
   "outputs": [
    {
     "data": {
      "text/html": [
       "<div>\n",
       "<style scoped>\n",
       "    .dataframe tbody tr th:only-of-type {\n",
       "        vertical-align: middle;\n",
       "    }\n",
       "\n",
       "    .dataframe tbody tr th {\n",
       "        vertical-align: top;\n",
       "    }\n",
       "\n",
       "    .dataframe thead th {\n",
       "        text-align: right;\n",
       "    }\n",
       "</style>\n",
       "<table border=\"1\" class=\"dataframe\">\n",
       "  <thead>\n",
       "    <tr style=\"text-align: right;\">\n",
       "      <th></th>\n",
       "      <th>Feature</th>\n",
       "      <th>Importance</th>\n",
       "    </tr>\n",
       "  </thead>\n",
       "  <tbody>\n",
       "    <tr>\n",
       "      <th>1</th>\n",
       "      <td>new_user</td>\n",
       "      <td>0.403762</td>\n",
       "    </tr>\n",
       "    <tr>\n",
       "      <th>0</th>\n",
       "      <td>age</td>\n",
       "      <td>0.338111</td>\n",
       "    </tr>\n",
       "    <tr>\n",
       "      <th>2</th>\n",
       "      <td>country_China</td>\n",
       "      <td>0.165902</td>\n",
       "    </tr>\n",
       "    <tr>\n",
       "      <th>5</th>\n",
       "      <td>country_US</td>\n",
       "      <td>0.028769</td>\n",
       "    </tr>\n",
       "    <tr>\n",
       "      <th>4</th>\n",
       "      <td>country_UK</td>\n",
       "      <td>0.025387</td>\n",
       "    </tr>\n",
       "    <tr>\n",
       "      <th>3</th>\n",
       "      <td>country_Germany</td>\n",
       "      <td>0.018217</td>\n",
       "    </tr>\n",
       "    <tr>\n",
       "      <th>7</th>\n",
       "      <td>source_Direct</td>\n",
       "      <td>0.008320</td>\n",
       "    </tr>\n",
       "    <tr>\n",
       "      <th>6</th>\n",
       "      <td>source_Ads</td>\n",
       "      <td>0.006476</td>\n",
       "    </tr>\n",
       "    <tr>\n",
       "      <th>8</th>\n",
       "      <td>source_Seo</td>\n",
       "      <td>0.005056</td>\n",
       "    </tr>\n",
       "  </tbody>\n",
       "</table>\n",
       "</div>"
      ],
      "text/plain": [
       "           Feature  Importance\n",
       "1         new_user    0.403762\n",
       "0              age    0.338111\n",
       "2    country_China    0.165902\n",
       "5       country_US    0.028769\n",
       "4       country_UK    0.025387\n",
       "3  country_Germany    0.018217\n",
       "7    source_Direct    0.008320\n",
       "6       source_Ads    0.006476\n",
       "8       source_Seo    0.005056"
      ]
     },
     "execution_count": 56,
     "metadata": {},
     "output_type": "execute_result"
    }
   ],
   "source": [
    "feature_importance = pd.DataFrame({'Feature': X_train.columns ,'Importance':forest.feature_importances_})\n",
    "feature_importance.sort_values(by='Importance',ascending=False, inplace=False)"
   ]
  },
  {
   "cell_type": "markdown",
   "id": "287e1ac8",
   "metadata": {},
   "source": [
    "the most important feature now is weather a user is new or not"
   ]
  },
  {
   "cell_type": "code",
   "execution_count": 57,
   "id": "2870142e",
   "metadata": {},
   "outputs": [
    {
     "data": {
      "text/html": [
       "<style>#sk-container-id-2 {color: black;background-color: white;}#sk-container-id-2 pre{padding: 0;}#sk-container-id-2 div.sk-toggleable {background-color: white;}#sk-container-id-2 label.sk-toggleable__label {cursor: pointer;display: block;width: 100%;margin-bottom: 0;padding: 0.3em;box-sizing: border-box;text-align: center;}#sk-container-id-2 label.sk-toggleable__label-arrow:before {content: \"▸\";float: left;margin-right: 0.25em;color: #696969;}#sk-container-id-2 label.sk-toggleable__label-arrow:hover:before {color: black;}#sk-container-id-2 div.sk-estimator:hover label.sk-toggleable__label-arrow:before {color: black;}#sk-container-id-2 div.sk-toggleable__content {max-height: 0;max-width: 0;overflow: hidden;text-align: left;background-color: #f0f8ff;}#sk-container-id-2 div.sk-toggleable__content pre {margin: 0.2em;color: black;border-radius: 0.25em;background-color: #f0f8ff;}#sk-container-id-2 input.sk-toggleable__control:checked~div.sk-toggleable__content {max-height: 200px;max-width: 100%;overflow: auto;}#sk-container-id-2 input.sk-toggleable__control:checked~label.sk-toggleable__label-arrow:before {content: \"▾\";}#sk-container-id-2 div.sk-estimator input.sk-toggleable__control:checked~label.sk-toggleable__label {background-color: #d4ebff;}#sk-container-id-2 div.sk-label input.sk-toggleable__control:checked~label.sk-toggleable__label {background-color: #d4ebff;}#sk-container-id-2 input.sk-hidden--visually {border: 0;clip: rect(1px 1px 1px 1px);clip: rect(1px, 1px, 1px, 1px);height: 1px;margin: -1px;overflow: hidden;padding: 0;position: absolute;width: 1px;}#sk-container-id-2 div.sk-estimator {font-family: monospace;background-color: #f0f8ff;border: 1px dotted black;border-radius: 0.25em;box-sizing: border-box;margin-bottom: 0.5em;}#sk-container-id-2 div.sk-estimator:hover {background-color: #d4ebff;}#sk-container-id-2 div.sk-parallel-item::after {content: \"\";width: 100%;border-bottom: 1px solid gray;flex-grow: 1;}#sk-container-id-2 div.sk-label:hover label.sk-toggleable__label {background-color: #d4ebff;}#sk-container-id-2 div.sk-serial::before {content: \"\";position: absolute;border-left: 1px solid gray;box-sizing: border-box;top: 0;bottom: 0;left: 50%;z-index: 0;}#sk-container-id-2 div.sk-serial {display: flex;flex-direction: column;align-items: center;background-color: white;padding-right: 0.2em;padding-left: 0.2em;position: relative;}#sk-container-id-2 div.sk-item {position: relative;z-index: 1;}#sk-container-id-2 div.sk-parallel {display: flex;align-items: stretch;justify-content: center;background-color: white;position: relative;}#sk-container-id-2 div.sk-item::before, #sk-container-id-2 div.sk-parallel-item::before {content: \"\";position: absolute;border-left: 1px solid gray;box-sizing: border-box;top: 0;bottom: 0;left: 50%;z-index: -1;}#sk-container-id-2 div.sk-parallel-item {display: flex;flex-direction: column;z-index: 1;position: relative;background-color: white;}#sk-container-id-2 div.sk-parallel-item:first-child::after {align-self: flex-end;width: 50%;}#sk-container-id-2 div.sk-parallel-item:last-child::after {align-self: flex-start;width: 50%;}#sk-container-id-2 div.sk-parallel-item:only-child::after {width: 0;}#sk-container-id-2 div.sk-dashed-wrapped {border: 1px dashed gray;margin: 0 0.4em 0.5em 0.4em;box-sizing: border-box;padding-bottom: 0.4em;background-color: white;}#sk-container-id-2 div.sk-label label {font-family: monospace;font-weight: bold;display: inline-block;line-height: 1.2em;}#sk-container-id-2 div.sk-label-container {text-align: center;}#sk-container-id-2 div.sk-container {/* jupyter's `normalize.less` sets `[hidden] { display: none; }` but bootstrap.min.css set `[hidden] { display: none !important; }` so we also need the `!important` here to be able to override the default hidden behavior on the sphinx rendered scikit-learn.org. See: https://github.com/scikit-learn/scikit-learn/issues/21755 */display: inline-block !important;position: relative;}#sk-container-id-2 div.sk-text-repr-fallback {display: none;}</style><div id=\"sk-container-id-2\" class=\"sk-top-container\"><div class=\"sk-text-repr-fallback\"><pre>DecisionTreeClassifier(class_weight={0: 0.7, 1: 0.3}, max_depth=3)</pre><b>In a Jupyter environment, please rerun this cell to show the HTML representation or trust the notebook. <br />On GitHub, the HTML representation is unable to render, please try loading this page with nbviewer.org.</b></div><div class=\"sk-container\" hidden><div class=\"sk-item\"><div class=\"sk-estimator sk-toggleable\"><input class=\"sk-toggleable__control sk-hidden--visually\" id=\"sk-estimator-id-2\" type=\"checkbox\" checked><label for=\"sk-estimator-id-2\" class=\"sk-toggleable__label sk-toggleable__label-arrow\">DecisionTreeClassifier</label><div class=\"sk-toggleable__content\"><pre>DecisionTreeClassifier(class_weight={0: 0.7, 1: 0.3}, max_depth=3)</pre></div></div></div></div></div>"
      ],
      "text/plain": [
       "DecisionTreeClassifier(class_weight={0: 0.7, 1: 0.3}, max_depth=3)"
      ]
     },
     "execution_count": 57,
     "metadata": {},
     "output_type": "execute_result"
    }
   ],
   "source": [
    "# Decision tree\n",
    "from sklearn import tree\n",
    "\n",
    "clf = tree.DecisionTreeClassifier(max_depth=3,class_weight={0: 0.7, 1: 0.3})\n",
    "clf.fit(X_train, y_train)"
   ]
  },
  {
   "cell_type": "code",
   "execution_count": 59,
   "id": "2d2d4b6c",
   "metadata": {},
   "outputs": [
    {
     "data": {
      "image/svg+xml": [
       "<?xml version=\"1.0\" encoding=\"UTF-8\" standalone=\"no\"?>\n",
       "<!DOCTYPE svg PUBLIC \"-//W3C//DTD SVG 1.1//EN\"\n",
       " \"http://www.w3.org/Graphics/SVG/1.1/DTD/svg11.dtd\">\n",
       "<!-- Generated by graphviz version 2.50.0 (0)\n",
       " -->\n",
       "<!-- Title: Tree Pages: 1 -->\n",
       "<svg width=\"1371pt\" height=\"433pt\"\n",
       " viewBox=\"0.00 0.00 1371.00 433.00\" xmlns=\"http://www.w3.org/2000/svg\" xmlns:xlink=\"http://www.w3.org/1999/xlink\">\n",
       "<g id=\"graph0\" class=\"graph\" transform=\"scale(1 1) rotate(0) translate(4 429)\">\n",
       "<title>Tree</title>\n",
       "<polygon fill=\"white\" stroke=\"transparent\" points=\"-4,4 -4,-429 1367,-429 1367,4 -4,4\"/>\n",
       "<!-- 0 -->\n",
       "<g id=\"node1\" class=\"node\">\n",
       "<title>0</title>\n",
       "<path fill=\"#e5833c\" stroke=\"black\" d=\"M754,-425C754,-425 601,-425 601,-425 595,-425 589,-419 589,-413 589,-413 589,-354 589,-354 589,-348 595,-342 601,-342 601,-342 754,-342 754,-342 760,-342 766,-348 766,-354 766,-354 766,-413 766,-413 766,-419 760,-425 754,-425\"/>\n",
       "<text text-anchor=\"start\" x=\"631\" y=\"-409.8\" font-family=\"Helvetica,sans-Serif\" font-size=\"14.00\">new_user ≤ 0.5</text>\n",
       "<text text-anchor=\"start\" x=\"642\" y=\"-394.8\" font-family=\"Helvetica,sans-Serif\" font-size=\"14.00\">gini = 0.028</text>\n",
       "<text text-anchor=\"start\" x=\"621.5\" y=\"-379.8\" font-family=\"Helvetica,sans-Serif\" font-size=\"14.00\">samples = 211852</text>\n",
       "<text text-anchor=\"start\" x=\"597\" y=\"-364.8\" font-family=\"Helvetica,sans-Serif\" font-size=\"14.00\">value = [143479.7, 2064.3]</text>\n",
       "<text text-anchor=\"start\" x=\"612\" y=\"-349.8\" font-family=\"Helvetica,sans-Serif\" font-size=\"14.00\">class = Not converted</text>\n",
       "</g>\n",
       "<!-- 1 -->\n",
       "<g id=\"node2\" class=\"node\">\n",
       "<title>1</title>\n",
       "<path fill=\"#e68540\" stroke=\"black\" d=\"M585.5,-306C585.5,-306 439.5,-306 439.5,-306 433.5,-306 427.5,-300 427.5,-294 427.5,-294 427.5,-235 427.5,-235 427.5,-229 433.5,-223 439.5,-223 439.5,-223 585.5,-223 585.5,-223 591.5,-223 597.5,-229 597.5,-235 597.5,-235 597.5,-294 597.5,-294 597.5,-300 591.5,-306 585.5,-306\"/>\n",
       "<text text-anchor=\"start\" x=\"452\" y=\"-290.8\" font-family=\"Helvetica,sans-Serif\" font-size=\"14.00\">country_China ≤ 0.5</text>\n",
       "<text text-anchor=\"start\" x=\"477\" y=\"-275.8\" font-family=\"Helvetica,sans-Serif\" font-size=\"14.00\">gini = 0.063</text>\n",
       "<text text-anchor=\"start\" x=\"460\" y=\"-260.8\" font-family=\"Helvetica,sans-Serif\" font-size=\"14.00\">samples = 66688</text>\n",
       "<text text-anchor=\"start\" x=\"435.5\" y=\"-245.8\" font-family=\"Helvetica,sans-Serif\" font-size=\"14.00\">value = [43287.3, 1454.7]</text>\n",
       "<text text-anchor=\"start\" x=\"447\" y=\"-230.8\" font-family=\"Helvetica,sans-Serif\" font-size=\"14.00\">class = Not converted</text>\n",
       "</g>\n",
       "<!-- 0&#45;&gt;1 -->\n",
       "<g id=\"edge1\" class=\"edge\">\n",
       "<title>0&#45;&gt;1</title>\n",
       "<path fill=\"none\" stroke=\"black\" d=\"M620.25,-341.91C606.56,-332.2 591.84,-321.76 577.81,-311.81\"/>\n",
       "<polygon fill=\"black\" stroke=\"black\" points=\"579.83,-308.95 569.64,-306.02 575.78,-314.66 579.83,-308.95\"/>\n",
       "<text text-anchor=\"middle\" x=\"573.84\" y=\"-326.97\" font-family=\"Helvetica,sans-Serif\" font-size=\"14.00\">True</text>\n",
       "</g>\n",
       "<!-- 8 -->\n",
       "<g id=\"node9\" class=\"node\">\n",
       "<title>8</title>\n",
       "<path fill=\"#e5823a\" stroke=\"black\" d=\"M934.5,-306C934.5,-306 788.5,-306 788.5,-306 782.5,-306 776.5,-300 776.5,-294 776.5,-294 776.5,-235 776.5,-235 776.5,-229 782.5,-223 788.5,-223 788.5,-223 934.5,-223 934.5,-223 940.5,-223 946.5,-229 946.5,-235 946.5,-235 946.5,-294 946.5,-294 946.5,-300 940.5,-306 934.5,-306\"/>\n",
       "<text text-anchor=\"start\" x=\"801\" y=\"-290.8\" font-family=\"Helvetica,sans-Serif\" font-size=\"14.00\">country_China ≤ 0.5</text>\n",
       "<text text-anchor=\"start\" x=\"826\" y=\"-275.8\" font-family=\"Helvetica,sans-Serif\" font-size=\"14.00\">gini = 0.012</text>\n",
       "<text text-anchor=\"start\" x=\"805.5\" y=\"-260.8\" font-family=\"Helvetica,sans-Serif\" font-size=\"14.00\">samples = 145164</text>\n",
       "<text text-anchor=\"start\" x=\"784.5\" y=\"-245.8\" font-family=\"Helvetica,sans-Serif\" font-size=\"14.00\">value = [100192.4, 609.6]</text>\n",
       "<text text-anchor=\"start\" x=\"796\" y=\"-230.8\" font-family=\"Helvetica,sans-Serif\" font-size=\"14.00\">class = Not converted</text>\n",
       "</g>\n",
       "<!-- 0&#45;&gt;8 -->\n",
       "<g id=\"edge8\" class=\"edge\">\n",
       "<title>0&#45;&gt;8</title>\n",
       "<path fill=\"none\" stroke=\"black\" d=\"M741.34,-341.91C756.75,-332.11 773.33,-321.56 789.11,-311.53\"/>\n",
       "<polygon fill=\"black\" stroke=\"black\" points=\"791.21,-314.34 797.77,-306.02 787.46,-308.43 791.21,-314.34\"/>\n",
       "<text text-anchor=\"middle\" x=\"792.34\" y=\"-326.72\" font-family=\"Helvetica,sans-Serif\" font-size=\"14.00\">False</text>\n",
       "</g>\n",
       "<!-- 2 -->\n",
       "<g id=\"node3\" class=\"node\">\n",
       "<title>2</title>\n",
       "<path fill=\"#e68742\" stroke=\"black\" d=\"M333.5,-187C333.5,-187 187.5,-187 187.5,-187 181.5,-187 175.5,-181 175.5,-175 175.5,-175 175.5,-116 175.5,-116 175.5,-110 181.5,-104 187.5,-104 187.5,-104 333.5,-104 333.5,-104 339.5,-104 345.5,-110 345.5,-116 345.5,-116 345.5,-175 345.5,-175 345.5,-181 339.5,-187 333.5,-187\"/>\n",
       "<text text-anchor=\"start\" x=\"228.5\" y=\"-171.8\" font-family=\"Helvetica,sans-Serif\" font-size=\"14.00\">age ≤ 26.5</text>\n",
       "<text text-anchor=\"start\" x=\"225\" y=\"-156.8\" font-family=\"Helvetica,sans-Serif\" font-size=\"14.00\">gini = 0.081</text>\n",
       "<text text-anchor=\"start\" x=\"208\" y=\"-141.8\" font-family=\"Helvetica,sans-Serif\" font-size=\"14.00\">samples = 51354</text>\n",
       "<text text-anchor=\"start\" x=\"183.5\" y=\"-126.8\" font-family=\"Helvetica,sans-Serif\" font-size=\"14.00\">value = [32587.8, 1440.0]</text>\n",
       "<text text-anchor=\"start\" x=\"195\" y=\"-111.8\" font-family=\"Helvetica,sans-Serif\" font-size=\"14.00\">class = Not converted</text>\n",
       "</g>\n",
       "<!-- 1&#45;&gt;2 -->\n",
       "<g id=\"edge2\" class=\"edge\">\n",
       "<title>1&#45;&gt;2</title>\n",
       "<path fill=\"none\" stroke=\"black\" d=\"M427.18,-223.89C403.99,-213.12 378.74,-201.4 355.06,-190.4\"/>\n",
       "<polygon fill=\"black\" stroke=\"black\" points=\"356.27,-187.11 345.73,-186.07 353.32,-193.46 356.27,-187.11\"/>\n",
       "</g>\n",
       "<!-- 5 -->\n",
       "<g id=\"node6\" class=\"node\">\n",
       "<title>5</title>\n",
       "<path fill=\"#e58139\" stroke=\"black\" d=\"M578,-187C578,-187 447,-187 447,-187 441,-187 435,-181 435,-175 435,-175 435,-116 435,-116 435,-110 441,-104 447,-104 447,-104 578,-104 578,-104 584,-104 590,-110 590,-116 590,-116 590,-175 590,-175 590,-181 584,-187 578,-187\"/>\n",
       "<text text-anchor=\"start\" x=\"480.5\" y=\"-171.8\" font-family=\"Helvetica,sans-Serif\" font-size=\"14.00\">age ≤ 30.5</text>\n",
       "<text text-anchor=\"start\" x=\"477\" y=\"-156.8\" font-family=\"Helvetica,sans-Serif\" font-size=\"14.00\">gini = 0.003</text>\n",
       "<text text-anchor=\"start\" x=\"460\" y=\"-141.8\" font-family=\"Helvetica,sans-Serif\" font-size=\"14.00\">samples = 15334</text>\n",
       "<text text-anchor=\"start\" x=\"443\" y=\"-126.8\" font-family=\"Helvetica,sans-Serif\" font-size=\"14.00\">value = [10699.5, 14.7]</text>\n",
       "<text text-anchor=\"start\" x=\"447\" y=\"-111.8\" font-family=\"Helvetica,sans-Serif\" font-size=\"14.00\">class = Not converted</text>\n",
       "</g>\n",
       "<!-- 1&#45;&gt;5 -->\n",
       "<g id=\"edge5\" class=\"edge\">\n",
       "<title>1&#45;&gt;5</title>\n",
       "<path fill=\"none\" stroke=\"black\" d=\"M512.5,-222.91C512.5,-214.65 512.5,-205.86 512.5,-197.3\"/>\n",
       "<polygon fill=\"black\" stroke=\"black\" points=\"516,-197.02 512.5,-187.02 509,-197.02 516,-197.02\"/>\n",
       "</g>\n",
       "<!-- 3 -->\n",
       "<g id=\"node4\" class=\"node\">\n",
       "<title>3</title>\n",
       "<path fill=\"#e78a48\" stroke=\"black\" d=\"M149,-68C149,-68 12,-68 12,-68 6,-68 0,-62 0,-56 0,-56 0,-12 0,-12 0,-6 6,0 12,0 12,0 149,0 149,0 155,0 161,-6 161,-12 161,-12 161,-56 161,-56 161,-62 155,-68 149,-68\"/>\n",
       "<text text-anchor=\"start\" x=\"45\" y=\"-52.8\" font-family=\"Helvetica,sans-Serif\" font-size=\"14.00\">gini = 0.127</text>\n",
       "<text text-anchor=\"start\" x=\"28\" y=\"-37.8\" font-family=\"Helvetica,sans-Serif\" font-size=\"14.00\">samples = 18660</text>\n",
       "<text text-anchor=\"start\" x=\"8\" y=\"-22.8\" font-family=\"Helvetica,sans-Serif\" font-size=\"14.00\">value = [11152.4, 818.4]</text>\n",
       "<text text-anchor=\"start\" x=\"15\" y=\"-7.8\" font-family=\"Helvetica,sans-Serif\" font-size=\"14.00\">class = Not converted</text>\n",
       "</g>\n",
       "<!-- 2&#45;&gt;3 -->\n",
       "<g id=\"edge3\" class=\"edge\">\n",
       "<title>2&#45;&gt;3</title>\n",
       "<path fill=\"none\" stroke=\"black\" d=\"M193.73,-103.88C177.35,-93.92 159.87,-83.29 143.67,-73.43\"/>\n",
       "<polygon fill=\"black\" stroke=\"black\" points=\"145.18,-70.25 134.82,-68.04 141.54,-76.23 145.18,-70.25\"/>\n",
       "</g>\n",
       "<!-- 4 -->\n",
       "<g id=\"node5\" class=\"node\">\n",
       "<title>4</title>\n",
       "<path fill=\"#e6853f\" stroke=\"black\" d=\"M329.5,-68C329.5,-68 191.5,-68 191.5,-68 185.5,-68 179.5,-62 179.5,-56 179.5,-56 179.5,-12 179.5,-12 179.5,-6 185.5,0 191.5,0 191.5,0 329.5,0 329.5,0 335.5,0 341.5,-6 341.5,-12 341.5,-12 341.5,-56 341.5,-56 341.5,-62 335.5,-68 329.5,-68\"/>\n",
       "<text text-anchor=\"start\" x=\"225\" y=\"-52.8\" font-family=\"Helvetica,sans-Serif\" font-size=\"14.00\">gini = 0.055</text>\n",
       "<text text-anchor=\"start\" x=\"208\" y=\"-37.8\" font-family=\"Helvetica,sans-Serif\" font-size=\"14.00\">samples = 32694</text>\n",
       "<text text-anchor=\"start\" x=\"187.5\" y=\"-22.8\" font-family=\"Helvetica,sans-Serif\" font-size=\"14.00\">value = [21435.4, 621.6]</text>\n",
       "<text text-anchor=\"start\" x=\"195\" y=\"-7.8\" font-family=\"Helvetica,sans-Serif\" font-size=\"14.00\">class = Not converted</text>\n",
       "</g>\n",
       "<!-- 2&#45;&gt;4 -->\n",
       "<g id=\"edge4\" class=\"edge\">\n",
       "<title>2&#45;&gt;4</title>\n",
       "<path fill=\"none\" stroke=\"black\" d=\"M260.5,-103.73C260.5,-95.52 260.5,-86.86 260.5,-78.56\"/>\n",
       "<polygon fill=\"black\" stroke=\"black\" points=\"264,-78.3 260.5,-68.3 257,-78.3 264,-78.3\"/>\n",
       "</g>\n",
       "<!-- 6 -->\n",
       "<g id=\"node7\" class=\"node\">\n",
       "<title>6</title>\n",
       "<path fill=\"#e58139\" stroke=\"black\" d=\"M495,-68C495,-68 372,-68 372,-68 366,-68 360,-62 360,-56 360,-56 360,-12 360,-12 360,-6 366,0 372,0 372,0 495,0 495,0 501,0 507,-6 507,-12 507,-12 507,-56 507,-56 507,-62 501,-68 495,-68\"/>\n",
       "<text text-anchor=\"start\" x=\"398\" y=\"-52.8\" font-family=\"Helvetica,sans-Serif\" font-size=\"14.00\">gini = 0.004</text>\n",
       "<text text-anchor=\"start\" x=\"385\" y=\"-37.8\" font-family=\"Helvetica,sans-Serif\" font-size=\"14.00\">samples = 7976</text>\n",
       "<text text-anchor=\"start\" x=\"368\" y=\"-22.8\" font-family=\"Helvetica,sans-Serif\" font-size=\"14.00\">value = [5555.9, 11.7]</text>\n",
       "<text text-anchor=\"start\" x=\"368\" y=\"-7.8\" font-family=\"Helvetica,sans-Serif\" font-size=\"14.00\">class = Not converted</text>\n",
       "</g>\n",
       "<!-- 5&#45;&gt;6 -->\n",
       "<g id=\"edge6\" class=\"edge\">\n",
       "<title>5&#45;&gt;6</title>\n",
       "<path fill=\"none\" stroke=\"black\" d=\"M483.08,-103.73C476.7,-94.88 469.94,-85.51 463.53,-76.63\"/>\n",
       "<polygon fill=\"black\" stroke=\"black\" points=\"466.21,-74.36 457.52,-68.3 460.54,-78.46 466.21,-74.36\"/>\n",
       "</g>\n",
       "<!-- 7 -->\n",
       "<g id=\"node8\" class=\"node\">\n",
       "<title>7</title>\n",
       "<path fill=\"#e58139\" stroke=\"black\" d=\"M660,-68C660,-68 537,-68 537,-68 531,-68 525,-62 525,-56 525,-56 525,-12 525,-12 525,-6 531,0 537,0 537,0 660,0 660,0 666,0 672,-6 672,-12 672,-12 672,-56 672,-56 672,-62 666,-68 660,-68\"/>\n",
       "<text text-anchor=\"start\" x=\"563\" y=\"-52.8\" font-family=\"Helvetica,sans-Serif\" font-size=\"14.00\">gini = 0.001</text>\n",
       "<text text-anchor=\"start\" x=\"550\" y=\"-37.8\" font-family=\"Helvetica,sans-Serif\" font-size=\"14.00\">samples = 7358</text>\n",
       "<text text-anchor=\"start\" x=\"536.5\" y=\"-22.8\" font-family=\"Helvetica,sans-Serif\" font-size=\"14.00\">value = [5143.6, 3.0]</text>\n",
       "<text text-anchor=\"start\" x=\"533\" y=\"-7.8\" font-family=\"Helvetica,sans-Serif\" font-size=\"14.00\">class = Not converted</text>\n",
       "</g>\n",
       "<!-- 5&#45;&gt;7 -->\n",
       "<g id=\"edge7\" class=\"edge\">\n",
       "<title>5&#45;&gt;7</title>\n",
       "<path fill=\"none\" stroke=\"black\" d=\"M544.52,-103.73C551.54,-94.79 558.98,-85.32 566.02,-76.36\"/>\n",
       "<polygon fill=\"black\" stroke=\"black\" points=\"568.92,-78.33 572.35,-68.3 563.42,-74 568.92,-78.33\"/>\n",
       "</g>\n",
       "<!-- 9 -->\n",
       "<g id=\"node10\" class=\"node\">\n",
       "<title>9</title>\n",
       "<path fill=\"#e5823b\" stroke=\"black\" d=\"M930.5,-187C930.5,-187 792.5,-187 792.5,-187 786.5,-187 780.5,-181 780.5,-175 780.5,-175 780.5,-116 780.5,-116 780.5,-110 786.5,-104 792.5,-104 792.5,-104 930.5,-104 930.5,-104 936.5,-104 942.5,-110 942.5,-116 942.5,-116 942.5,-175 942.5,-175 942.5,-181 936.5,-187 930.5,-187\"/>\n",
       "<text text-anchor=\"start\" x=\"829.5\" y=\"-171.8\" font-family=\"Helvetica,sans-Serif\" font-size=\"14.00\">age ≤ 25.5</text>\n",
       "<text text-anchor=\"start\" x=\"826\" y=\"-156.8\" font-family=\"Helvetica,sans-Serif\" font-size=\"14.00\">gini = 0.016</text>\n",
       "<text text-anchor=\"start\" x=\"805.5\" y=\"-141.8\" font-family=\"Helvetica,sans-Serif\" font-size=\"14.00\">samples = 109383</text>\n",
       "<text text-anchor=\"start\" x=\"788.5\" y=\"-126.8\" font-family=\"Helvetica,sans-Serif\" font-size=\"14.00\">value = [75162.5, 602.4]</text>\n",
       "<text text-anchor=\"start\" x=\"796\" y=\"-111.8\" font-family=\"Helvetica,sans-Serif\" font-size=\"14.00\">class = Not converted</text>\n",
       "</g>\n",
       "<!-- 8&#45;&gt;9 -->\n",
       "<g id=\"edge9\" class=\"edge\">\n",
       "<title>8&#45;&gt;9</title>\n",
       "<path fill=\"none\" stroke=\"black\" d=\"M861.5,-222.91C861.5,-214.65 861.5,-205.86 861.5,-197.3\"/>\n",
       "<polygon fill=\"black\" stroke=\"black\" points=\"865,-197.02 861.5,-187.02 858,-197.02 865,-197.02\"/>\n",
       "</g>\n",
       "<!-- 12 -->\n",
       "<g id=\"node13\" class=\"node\">\n",
       "<title>12</title>\n",
       "<path fill=\"#e58139\" stroke=\"black\" d=\"M1186,-187C1186,-187 1063,-187 1063,-187 1057,-187 1051,-181 1051,-175 1051,-175 1051,-116 1051,-116 1051,-110 1057,-104 1063,-104 1063,-104 1186,-104 1186,-104 1192,-104 1198,-110 1198,-116 1198,-116 1198,-175 1198,-175 1198,-181 1192,-187 1186,-187\"/>\n",
       "<text text-anchor=\"start\" x=\"1092.5\" y=\"-171.8\" font-family=\"Helvetica,sans-Serif\" font-size=\"14.00\">age ≤ 33.5</text>\n",
       "<text text-anchor=\"start\" x=\"1089\" y=\"-156.8\" font-family=\"Helvetica,sans-Serif\" font-size=\"14.00\">gini = 0.001</text>\n",
       "<text text-anchor=\"start\" x=\"1072\" y=\"-141.8\" font-family=\"Helvetica,sans-Serif\" font-size=\"14.00\">samples = 35781</text>\n",
       "<text text-anchor=\"start\" x=\"1059\" y=\"-126.8\" font-family=\"Helvetica,sans-Serif\" font-size=\"14.00\">value = [25029.9, 7.2]</text>\n",
       "<text text-anchor=\"start\" x=\"1059\" y=\"-111.8\" font-family=\"Helvetica,sans-Serif\" font-size=\"14.00\">class = Not converted</text>\n",
       "</g>\n",
       "<!-- 8&#45;&gt;12 -->\n",
       "<g id=\"edge12\" class=\"edge\">\n",
       "<title>8&#45;&gt;12</title>\n",
       "<path fill=\"none\" stroke=\"black\" d=\"M946.53,-225.68C976.99,-212.12 1011.28,-196.87 1041.56,-183.4\"/>\n",
       "<polygon fill=\"black\" stroke=\"black\" points=\"1043.11,-186.54 1050.82,-179.28 1040.27,-180.14 1043.11,-186.54\"/>\n",
       "</g>\n",
       "<!-- 10 -->\n",
       "<g id=\"node11\" class=\"node\">\n",
       "<title>10</title>\n",
       "<path fill=\"#e5833c\" stroke=\"black\" d=\"M840.5,-68C840.5,-68 702.5,-68 702.5,-68 696.5,-68 690.5,-62 690.5,-56 690.5,-56 690.5,-12 690.5,-12 690.5,-6 696.5,0 702.5,0 702.5,0 840.5,0 840.5,0 846.5,0 852.5,-6 852.5,-12 852.5,-12 852.5,-56 852.5,-56 852.5,-62 846.5,-68 840.5,-68\"/>\n",
       "<text text-anchor=\"start\" x=\"736\" y=\"-52.8\" font-family=\"Helvetica,sans-Serif\" font-size=\"14.00\">gini = 0.026</text>\n",
       "<text text-anchor=\"start\" x=\"719\" y=\"-37.8\" font-family=\"Helvetica,sans-Serif\" font-size=\"14.00\">samples = 33153</text>\n",
       "<text text-anchor=\"start\" x=\"698.5\" y=\"-22.8\" font-family=\"Helvetica,sans-Serif\" font-size=\"14.00\">value = [22502.2, 302.1]</text>\n",
       "<text text-anchor=\"start\" x=\"706\" y=\"-7.8\" font-family=\"Helvetica,sans-Serif\" font-size=\"14.00\">class = Not converted</text>\n",
       "</g>\n",
       "<!-- 9&#45;&gt;10 -->\n",
       "<g id=\"edge10\" class=\"edge\">\n",
       "<title>9&#45;&gt;10</title>\n",
       "<path fill=\"none\" stroke=\"black\" d=\"M827.99,-103.73C820.57,-94.7 812.7,-85.12 805.27,-76.08\"/>\n",
       "<polygon fill=\"black\" stroke=\"black\" points=\"807.92,-73.8 798.87,-68.3 802.52,-78.25 807.92,-73.8\"/>\n",
       "</g>\n",
       "<!-- 11 -->\n",
       "<g id=\"node12\" class=\"node\">\n",
       "<title>11</title>\n",
       "<path fill=\"#e5823a\" stroke=\"black\" d=\"M1020.5,-68C1020.5,-68 882.5,-68 882.5,-68 876.5,-68 870.5,-62 870.5,-56 870.5,-56 870.5,-12 870.5,-12 870.5,-6 876.5,0 882.5,0 882.5,0 1020.5,0 1020.5,0 1026.5,0 1032.5,-6 1032.5,-12 1032.5,-12 1032.5,-56 1032.5,-56 1032.5,-62 1026.5,-68 1020.5,-68\"/>\n",
       "<text text-anchor=\"start\" x=\"916\" y=\"-52.8\" font-family=\"Helvetica,sans-Serif\" font-size=\"14.00\">gini = 0.011</text>\n",
       "<text text-anchor=\"start\" x=\"899\" y=\"-37.8\" font-family=\"Helvetica,sans-Serif\" font-size=\"14.00\">samples = 76230</text>\n",
       "<text text-anchor=\"start\" x=\"878.5\" y=\"-22.8\" font-family=\"Helvetica,sans-Serif\" font-size=\"14.00\">value = [52660.3, 300.3]</text>\n",
       "<text text-anchor=\"start\" x=\"886\" y=\"-7.8\" font-family=\"Helvetica,sans-Serif\" font-size=\"14.00\">class = Not converted</text>\n",
       "</g>\n",
       "<!-- 9&#45;&gt;11 -->\n",
       "<g id=\"edge11\" class=\"edge\">\n",
       "<title>9&#45;&gt;11</title>\n",
       "<path fill=\"none\" stroke=\"black\" d=\"M895.01,-103.73C902.43,-94.7 910.3,-85.12 917.73,-76.08\"/>\n",
       "<polygon fill=\"black\" stroke=\"black\" points=\"920.48,-78.25 924.13,-68.3 915.08,-73.8 920.48,-78.25\"/>\n",
       "</g>\n",
       "<!-- 13 -->\n",
       "<g id=\"node14\" class=\"node\">\n",
       "<title>13</title>\n",
       "<path fill=\"#e58139\" stroke=\"black\" d=\"M1186,-68C1186,-68 1063,-68 1063,-68 1057,-68 1051,-62 1051,-56 1051,-56 1051,-12 1051,-12 1051,-6 1057,0 1063,0 1063,0 1186,0 1186,0 1192,0 1198,-6 1198,-12 1198,-12 1198,-56 1198,-56 1198,-62 1192,-68 1186,-68\"/>\n",
       "<text text-anchor=\"start\" x=\"1089\" y=\"-52.8\" font-family=\"Helvetica,sans-Serif\" font-size=\"14.00\">gini = 0.001</text>\n",
       "<text text-anchor=\"start\" x=\"1072\" y=\"-37.8\" font-family=\"Helvetica,sans-Serif\" font-size=\"14.00\">samples = 23314</text>\n",
       "<text text-anchor=\"start\" x=\"1059\" y=\"-22.8\" font-family=\"Helvetica,sans-Serif\" font-size=\"14.00\">value = [16303.7, 6.9]</text>\n",
       "<text text-anchor=\"start\" x=\"1059\" y=\"-7.8\" font-family=\"Helvetica,sans-Serif\" font-size=\"14.00\">class = Not converted</text>\n",
       "</g>\n",
       "<!-- 12&#45;&gt;13 -->\n",
       "<g id=\"edge13\" class=\"edge\">\n",
       "<title>12&#45;&gt;13</title>\n",
       "<path fill=\"none\" stroke=\"black\" d=\"M1124.5,-103.73C1124.5,-95.52 1124.5,-86.86 1124.5,-78.56\"/>\n",
       "<polygon fill=\"black\" stroke=\"black\" points=\"1128,-78.3 1124.5,-68.3 1121,-78.3 1128,-78.3\"/>\n",
       "</g>\n",
       "<!-- 14 -->\n",
       "<g id=\"node15\" class=\"node\">\n",
       "<title>14</title>\n",
       "<path fill=\"#e58139\" stroke=\"black\" d=\"M1351,-68C1351,-68 1228,-68 1228,-68 1222,-68 1216,-62 1216,-56 1216,-56 1216,-12 1216,-12 1216,-6 1222,0 1228,0 1228,0 1351,0 1351,0 1357,0 1363,-6 1363,-12 1363,-12 1363,-56 1363,-56 1363,-62 1357,-68 1351,-68\"/>\n",
       "<text text-anchor=\"start\" x=\"1261.5\" y=\"-52.8\" font-family=\"Helvetica,sans-Serif\" font-size=\"14.00\">gini = 0.0</text>\n",
       "<text text-anchor=\"start\" x=\"1237\" y=\"-37.8\" font-family=\"Helvetica,sans-Serif\" font-size=\"14.00\">samples = 12467</text>\n",
       "<text text-anchor=\"start\" x=\"1227.5\" y=\"-22.8\" font-family=\"Helvetica,sans-Serif\" font-size=\"14.00\">value = [8726.2, 0.3]</text>\n",
       "<text text-anchor=\"start\" x=\"1224\" y=\"-7.8\" font-family=\"Helvetica,sans-Serif\" font-size=\"14.00\">class = Not converted</text>\n",
       "</g>\n",
       "<!-- 12&#45;&gt;14 -->\n",
       "<g id=\"edge14\" class=\"edge\">\n",
       "<title>12&#45;&gt;14</title>\n",
       "<path fill=\"none\" stroke=\"black\" d=\"M1185.94,-103.73C1200.72,-93.92 1216.47,-83.46 1231.11,-73.75\"/>\n",
       "<polygon fill=\"black\" stroke=\"black\" points=\"1233.19,-76.57 1239.59,-68.13 1229.32,-70.74 1233.19,-76.57\"/>\n",
       "</g>\n",
       "</g>\n",
       "</svg>\n"
      ],
      "text/plain": [
       "<graphviz.sources.Source at 0x7f8206ede100>"
      ]
     },
     "execution_count": 59,
     "metadata": {},
     "output_type": "execute_result"
    }
   ],
   "source": [
    "# import graphviz \n",
    "\n",
    "# # Visualization\n",
    "# features = list(X_train.columns)\n",
    "# targets = ['Not converted', 'converted']\n",
    "# dot_data = tree.export_graphviz(clf, out_file=None, feature_names=features, class_names=targets, \n",
    "#                                 filled=True, rounded=True, special_characters=True, )  \n",
    "# graph = graphviz.Source(dot_data)\n",
    "# graph"
   ]
  },
  {
   "cell_type": "code",
   "execution_count": 60,
   "id": "ffc97eb9",
   "metadata": {},
   "outputs": [
    {
     "data": {
      "image/png": "[encoded data removed]",
      "text/plain": [
       "<Figure size 1440x1440 with 1 Axes>"
      ]
     },
     "metadata": {
      "needs_background": "light"
     },
     "output_type": "display_data"
    }
   ],
   "source": [
    "plt.figure(figsize=(20,20))\n",
    "tree.plot_tree(clf.fit(X_train, y_train),feature_names=list(X_train.columns), class_names=['converted'], filled=True) \n",
    "plt.show()"
   ]
  },
  {
   "cell_type": "markdown",
   "id": "a9174183",
   "metadata": {},
   "source": [
    "Some conclusions and suggestions:\n",
    "1. The site is working very well for **young users**. Definitely let’s tell marketing to advertise and use marketing channel which are more likely to reach young people.\n",
    "2. The site is working very well for **Germany** in terms of conversion. But the summary showed that there are **few Germans coming to the site**: way less than UK, despite a larger population. Again, marketing should get more Germans. Big opportunity.\n",
    "3. Users with **old accounts** do much better. Targeted emails with offers to bring them back to the site could be a good idea to try.\n",
    "4. Something is wrong with the **Chinese** version of the site. It is either poorly translated, doesn’t fit the local culture, some payment issue or maybe it is just in English! Given how many users are based in China, fixing this should be a top priority. Huge opportunity.\n",
    "5. Maybe go through the UI and figure out why **older users** perform so poorly? From 30 y/o conversion clearly starts dropping.\n",
    "6. If I know someone has **visited many pages**, but hasn’t converted, she almost surely has high purchase intent. I could email her targeted offers or sending her reminders. Overall, these are probably the easiest users to make convert."
   ]
  },
  {
   "cell_type": "markdown",
   "id": "b661c0d0",
   "metadata": {},
   "source": [
    "As you can see, conclusions usually end up being about:\n",
    "1. tell marketing to **get more of the good performing user segments**\n",
    "2. tell product to **fix the experience for the bad performing ones**"
   ]
  },
  {
   "cell_type": "markdown",
   "id": "8d22ba70",
   "metadata": {},
   "source": [
    "## Tuning Model Parameters"
   ]
  },
  {
   "cell_type": "code",
   "execution_count": 1,
   "id": "3c420545",
   "metadata": {},
   "outputs": [],
   "source": [
    "# implementing classifier\n",
    "# creating a dictrinary for classifier\n",
    "# classifiers ={\n",
    "#     \"LogisiticRegression\": LogisticRegression(),\n",
    "#     \"Support Vector Classifier\": SVC(),\n",
    "#     \"RandomForestClassifier\": RandomForestClassifier(),\n",
    "#     \"DecisionTreeClassifier\": DecisionTreeClassifier()\n",
    "# }\n",
    "# from sklearn.model_selection import GridSearchCV"
   ]
  },
  {
   "cell_type": "code",
   "execution_count": 2,
   "id": "d980a327",
   "metadata": {
    "scrolled": false
   },
   "outputs": [],
   "source": [
    "# Use GridSearchCv to find the best parameters for different model\n",
    "# from sklearn.model_selection import GridSearchCV\n",
    "\n",
    "# #LogisticRegression\n",
    "# log_reg_params = {\"penalty\": ['l1', 'l2'], 'C': [0.001, 0.01, 0.1, 1, 10, 100, 1000], 'max_iter': [100,1000,10000]}\n",
    "# grid_log_reg = GridSearchCV(LogisticRegression(), log_reg_params)\n",
    "# grid_log_reg.fit(X_train, y_train)\n",
    "\n",
    "# # logistic regression best parameters.\n",
    "# log_reg = grid_log_reg.best_estimator_\n",
    "\n"
   ]
  },
  {
   "cell_type": "code",
   "execution_count": null,
   "id": "c743b221",
   "metadata": {},
   "outputs": [],
   "source": [
    "# SVC \n",
    "# Support Vector Classifier\n",
    "# svc_params = {'C': [0.5, 0.7, 0.9, 1], 'kernel': ['rbf', 'poly', 'sigmoid', 'linear']}\n",
    "# grid_svc = GridSearchCV(SVC(), svc_params)\n",
    "# grid_svc.fit(X_train, y_train)\n",
    "\n",
    "# # SVC best estimator\n",
    "# svc = grid_svc.best_estimator_"
   ]
  },
  {
   "cell_type": "code",
   "execution_count": 3,
   "id": "768a7b43",
   "metadata": {},
   "outputs": [],
   "source": [
    "# Random Forest Classifier\n",
    "# rfc_params = {'max_depth':[10,20,30,40,50,60,70,80,90,100,None], 'min_samples_leaf': [3, 4, 5],\n",
    "#     'min_samples_split': [8, 10, 12],\n",
    "#     'n_estimators': [100, 200, 300, 1000]}\n",
    "# grid_rfc = GridSearchCV(RandomForestClassifier(), rfc_params)\n",
    "# grid_rfc.fit(X_train, y_train)\n",
    "\n",
    "# rfc = grid_rfc.best_estimator"
   ]
  },
  {
   "cell_type": "code",
   "execution_count": null,
   "id": "96c831d8",
   "metadata": {},
   "outputs": [],
   "source": [
    "# tree_params = {\"max_depth\": list(range(2,4,1)), \"min_samples_leaf\": list(range(5,7,1))}\n",
    "# grid_tree = GridSearchCV(DecisionTreeClassifier(), tree_params)\n",
    "# grid_tree.fit(X_train, y_train)\n",
    "\n",
    "# tree best estimator\n",
    "# tree_clf = grid_tree.best_estimator_\n",
    "\n",
    "# print(\"Classifers with their tuned parameters we got via GridSearchCV\")\n",
    "# print(log_reg)\n",
    "# print(svc)\n",
    "# print(frc)\n",
    "# print(tree_clf)"
   ]
  }
 ],
 "metadata": {
  "kernelspec": {
   "display_name": "Python 3",
   "language": "python",
   "name": "python3"
  },
  "language_info": {
   "codemirror_mode": {
    "name": "ipython",
    "version": 3
   },
   "file_extension": ".py",
   "mimetype": "text/x-python",
   "name": "python",
   "nbconvert_exporter": "python",
   "pygments_lexer": "ipython3",
   "version": "3.8.8"
  }
 },
 "nbformat": 4,
 "nbformat_minor": 5
}
